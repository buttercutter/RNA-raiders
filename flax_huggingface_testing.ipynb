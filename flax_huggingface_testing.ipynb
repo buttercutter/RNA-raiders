{
 "cells": [
  {
   "cell_type": "markdown",
   "metadata": {},
   "source": [
    "# Setup"
   ]
  },
  {
   "cell_type": "code",
   "execution_count": null,
   "metadata": {},
   "outputs": [],
   "source": [
    "#!/bin/python3 -m pip install evaluate nltk nibabel pydicom matplotlib pillow med2image rouge_score jax flax petl"
   ]
  },
  {
   "cell_type": "markdown",
   "metadata": {},
   "source": [
    "# LongT5"
   ]
  },
  {
   "cell_type": "code",
   "execution_count": null,
   "metadata": {},
   "outputs": [],
   "source": [
    "\n",
    "train_file = \"train.csv\"\n",
    "eval_file = \"val.csv\"\n",
    "test_file = \"test.csv\"\n",
    "\n",
    "gradient_checkpointing = True  # would allow a higher batch size, because it would use less memory, but would slow down training\n",
    "\n",
    "#model_name = \"google/long-t5-tglobal-large\"\n",
    "#model_name = \"google-long-t5-tglobal-large\"\n",
    "model_name = \"google/long-t5-tglobal-base\"\n",
    "model_name_safe = model_name.replace(\"/\", \"-\")\n",
    "output_folder = f\"output_{model_name_safe}\"\n",
    "\n",
    "!nohup /bin/python3 run_summarization_flax.py --output_dir {output_folder} --model_name_or_path {model_name} --tokenizer_name {model_name} --train_file {train_file} --validation_file={eval_file} --test_file={test_file} --do_train --do_eval --do_predict --predict_with_generate --num_train_epochs=16 --learning_rate=6e-5 --warmup_steps=100 --per_device_train_batch_size=1 --per_device_eval_batch_size=2 --overwrite_output_dir --max_source_length=3600 --max_target_length=500 --gradient_checkpointing={gradient_checkpointing} --save_steps=2000 --logging_steps=1000 --eval_steps=10000 --seed=42 --weight_decay=0.05 --overwrite_cache=True --per_device_gradient_accumulation_steps=2 --dtype=\"bfloat16\" #--multisteps=True #--padding=\"longest\"\n",
    "#\n",
    "\n",
    "# other parameters to try\n",
    "# gradient_checkpointing = True  \n",
    "# weight_decay = 0.01"
   ]
  },
  {
   "cell_type": "code",
   "execution_count": null,
   "metadata": {},
   "outputs": [],
   "source": [
    "'''\n",
    "load huggingface pytorch model\n",
    "convert it to flax\n",
    "save the flax huggingface model\n",
    "'''\n",
    "\n",
    "from transformers import AutoTokenizer, AutoModelForSeq2SeqLM\n",
    "import flax\n",
    "import flax.linen as nn\n",
    "import flax.jax_utils as flax_utils\n",
    "\n",
    "# load the huggingface model\n",
    "tokenizer = AutoTokenizer.from_pretrained(\"google/long-t5-tglobal-base\")\n",
    "model = AutoModelForSeq2SeqLM.from_pretrained(\"google/long-t5-tglobal-base\")\n",
    "\n",
    "# convert the huggingface model to flax\n",
    "flax_model = flax_utils.pure_fn(model.to_flax())\n",
    "flax_model = flax.jax_utils.replicate(flax_model)\n",
    "\n",
    "# save the flax huggingface model\n",
    "flax.savez_compressed(\"long-t5-tglobal-xl.npz\", flax_model.params)\n",
    "\n",
    "\n",
    "\n"
   ]
  },
  {
   "cell_type": "markdown",
   "metadata": {},
   "source": []
  },
  {
   "cell_type": "code",
   "execution_count": null,
   "metadata": {},
   "outputs": [],
   "source": [
    "'''\n",
    "get all lines in nb.log that start with \"Epoch...\"\n",
    "'''\n",
    "\n",
    "import re\n",
    "\n",
    "with open(\"nb.log\", \"r\") as f:\n",
    "    lines = f.readlines()\n",
    "    for line in lines:\n",
    "        if re.match(\"^Epoch\", line):\n",
    "            print(line, end=\"\")\n"
   ]
  }
 ],
 "metadata": {
  "kernelspec": {
   "display_name": "Python 3.8.10 64-bit",
   "language": "python",
   "name": "python3"
  },
  "language_info": {
   "codemirror_mode": {
    "name": "ipython",
    "version": 3
   },
   "file_extension": ".py",
   "mimetype": "text/x-python",
   "name": "python",
   "nbconvert_exporter": "python",
   "pygments_lexer": "ipython3",
   "version": "3.8.10"
  },
  "orig_nbformat": 4,
  "vscode": {
   "interpreter": {
    "hash": "916dbcbb3f70747c44a77c7bcd40155683ae19c65e1c03b4aa3499c5328201f1"
   }
  }
 },
 "nbformat": 4,
 "nbformat_minor": 2
}
