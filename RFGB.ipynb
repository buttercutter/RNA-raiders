{
  "cells": [
    {
      "cell_type": "code",
      "execution_count": 1,
      "metadata": {
        "colab": {
          "base_uri": "https://localhost:8080/"
        },
        "id": "EllnJQ_2-SIu",
        "outputId": "e947ea0d-d945-4d5a-be7b-fa85e1536f4e"
      },
      "outputs": [
        {
          "name": "stdout",
          "output_type": "stream",
          "text": [
            "Requirement already satisfied: matplotlib in /home/moe/.local/lib/python3.8/site-packages (3.6.2)\n",
            "Requirement already satisfied: scanpy in /home/moe/.local/lib/python3.8/site-packages (1.9.1)\n",
            "Requirement already satisfied: scipy in /home/moe/.local/lib/python3.8/site-packages (1.10.0)\n",
            "Requirement already satisfied: sklearn in /home/moe/.local/lib/python3.8/site-packages (0.0.post1)\n",
            "Requirement already satisfied: contourpy>=1.0.1 in /home/moe/.local/lib/python3.8/site-packages (from matplotlib) (1.0.6)\n",
            "Requirement already satisfied: cycler>=0.10 in /home/moe/.local/lib/python3.8/site-packages (from matplotlib) (0.11.0)\n",
            "Requirement already satisfied: fonttools>=4.22.0 in /home/moe/.local/lib/python3.8/site-packages (from matplotlib) (4.38.0)\n",
            "Requirement already satisfied: kiwisolver>=1.0.1 in /home/moe/.local/lib/python3.8/site-packages (from matplotlib) (1.4.4)\n",
            "Requirement already satisfied: numpy>=1.19 in /home/moe/.local/lib/python3.8/site-packages (from matplotlib) (1.23.5)\n",
            "Requirement already satisfied: packaging>=20.0 in /home/moe/.local/lib/python3.8/site-packages (from matplotlib) (23.0)\n",
            "Requirement already satisfied: pillow>=6.2.0 in /home/moe/.local/lib/python3.8/site-packages (from matplotlib) (9.4.0)\n",
            "Requirement already satisfied: pyparsing>=2.2.1 in /usr/lib/python3/dist-packages (from matplotlib) (2.4.6)\n",
            "Requirement already satisfied: python-dateutil>=2.7 in /home/moe/.local/lib/python3.8/site-packages (from matplotlib) (2.8.2)\n",
            "Requirement already satisfied: anndata>=0.7.4 in /home/moe/.local/lib/python3.8/site-packages (from scanpy) (0.8.0)\n",
            "Requirement already satisfied: pandas>=1.0 in /home/moe/.local/lib/python3.8/site-packages (from scanpy) (1.5.2)\n",
            "Requirement already satisfied: seaborn in /home/moe/.local/lib/python3.8/site-packages (from scanpy) (0.12.2)\n",
            "Requirement already satisfied: h5py>=3 in /home/moe/.local/lib/python3.8/site-packages (from scanpy) (3.8.0)\n",
            "Requirement already satisfied: tqdm in /home/moe/.local/lib/python3.8/site-packages (from scanpy) (4.64.1)\n",
            "Requirement already satisfied: scikit-learn>=0.22 in /home/moe/.local/lib/python3.8/site-packages (from scanpy) (1.2.1)\n",
            "Requirement already satisfied: statsmodels>=0.10.0rc2 in /home/moe/.local/lib/python3.8/site-packages (from scanpy) (0.13.5)\n",
            "Requirement already satisfied: patsy in /home/moe/.local/lib/python3.8/site-packages (from scanpy) (0.5.3)\n",
            "Requirement already satisfied: networkx>=2.3 in /home/moe/.local/lib/python3.8/site-packages (from scanpy) (3.0)\n",
            "Requirement already satisfied: natsort in /home/moe/.local/lib/python3.8/site-packages (from scanpy) (8.2.0)\n",
            "Requirement already satisfied: joblib in /home/moe/.local/lib/python3.8/site-packages (from scanpy) (1.2.0)\n",
            "Requirement already satisfied: numba>=0.41.0 in /home/moe/.local/lib/python3.8/site-packages (from scanpy) (0.56.4)\n",
            "Requirement already satisfied: umap-learn>=0.3.10 in /home/moe/.local/lib/python3.8/site-packages (from scanpy) (0.5.3)\n",
            "Requirement already satisfied: session-info in /home/moe/.local/lib/python3.8/site-packages (from scanpy) (1.0.0)\n",
            "Requirement already satisfied: six>=1.5 in /home/moe/.local/lib/python3.8/site-packages (from python-dateutil>=2.7->matplotlib) (1.16.0)\n",
            "Requirement already satisfied: pytz>=2020.1 in /home/moe/.local/lib/python3.8/site-packages (from pandas>=1.0->scanpy) (2022.7)\n",
            "Requirement already satisfied: threadpoolctl>=2.0.0 in /home/moe/.local/lib/python3.8/site-packages (from scikit-learn>=0.22->scanpy) (3.1.0)\n",
            "Requirement already satisfied: llvmlite<0.40,>=0.39.0dev0 in /home/moe/.local/lib/python3.8/site-packages (from numba>=0.41.0->scanpy) (0.39.1)\n",
            "Requirement already satisfied: setuptools in /usr/local/lib/python3.8/dist-packages (from numba>=0.41.0->scanpy) (62.3.2)\n",
            "Requirement already satisfied: importlib-metadata; python_version < \"3.9\" in /home/moe/.local/lib/python3.8/site-packages (from numba>=0.41.0->scanpy) (6.0.0)\n",
            "Requirement already satisfied: pynndescent>=0.5 in /home/moe/.local/lib/python3.8/site-packages (from umap-learn>=0.3.10->scanpy) (0.5.8)\n",
            "Requirement already satisfied: stdlib-list in /home/moe/.local/lib/python3.8/site-packages (from session-info->scanpy) (0.8.0)\n",
            "Requirement already satisfied: zipp>=0.5 in /home/moe/.local/lib/python3.8/site-packages (from importlib-metadata; python_version < \"3.9\"->numba>=0.41.0->scanpy) (3.11.0)\n"
          ]
        }
      ],
      "source": [
        "!pip3 install matplotlib scanpy scipy sklearn"
      ]
    },
    {
      "cell_type": "code",
      "execution_count": 2,
      "metadata": {
        "id": "UW6F429obHBq"
      },
      "outputs": [],
      "source": [
        "from sklearn.tree import DecisionTreeRegressor, DecisionTreeClassifier\n",
        "from sklearn.ensemble import RandomForestRegressor\n",
        "from sklearn.multioutput import MultiOutputRegressor\n",
        "from sklearn.model_selection import train_test_split\n",
        "from sklearn.metrics import accuracy_score, mean_absolute_error\n",
        "from sklearn.preprocessing import OneHotEncoder\n",
        "from collections import Counter\n",
        "import numpy as np\n",
        "import pandas as pd\n",
        "import jax\n",
        "import jax.numpy as jnp\n",
        "from tqdm import tqdm \n",
        "import pickle as pkl\n",
        "from typing import Tuple, Union\n",
        "import scipy"
      ]
    },
    {
      "cell_type": "code",
      "execution_count": 3,
      "metadata": {
        "colab": {
          "base_uri": "https://localhost:8080/"
        },
        "id": "QtyIQQxI9Fzl",
        "outputId": "e56d0fd3-72be-4e67-e199-bd5283cf378f"
      },
      "outputs": [
        {
          "name": "stdout",
          "output_type": "stream",
          "text": [
            "scanpy==1.9.1 anndata==0.8.0 umap==0.5.3 numpy==1.23.5 scipy==1.10.0 pandas==1.5.2 scikit-learn==1.2.1 statsmodels==0.13.5 pynndescent==0.5.8\n"
          ]
        }
      ],
      "source": [
        "import scanpy as sc\n",
        "\n",
        "from warnings import filterwarnings\n",
        "filterwarnings('ignore')\n",
        "\n",
        "sc.settings.verbosity = 3\n",
        "sc.logging.print_header()\n",
        "sc.settings.set_figure_params(dpi=80, facecolor='white')\n",
        "\n",
        "np.set_printoptions(precision=3)"
      ]
    },
    {
      "cell_type": "code",
      "execution_count": 4,
      "metadata": {
        "id": "vvE18Kn399xT"
      },
      "outputs": [],
      "source": [
        "import seaborn as sns\n",
        "import matplotlib.pyplot as plt"
      ]
    },
    {
      "cell_type": "markdown",
      "metadata": {
        "id": "gtLbd3WpbHBv"
      },
      "source": [
        "# 1.1 Datasets"
      ]
    },
    {
      "cell_type": "code",
      "execution_count": 5,
      "metadata": {
        "colab": {
          "base_uri": "https://localhost:8080/"
        },
        "id": "qzOjuKi7-JZj",
        "outputId": "843ad0cb-85de-4869-c933-2b1227fbabdc"
      },
      "outputs": [
        {
          "name": "stdout",
          "output_type": "stream",
          "text": [
            "--2023-01-26 16:37:07--  https://saturn-public-data.s3.us-east-2.amazonaws.com/cancer-immunotherapy-challenge/data/sc_training.h5ad\n",
            "Resolving saturn-public-data.s3.us-east-2.amazonaws.com (saturn-public-data.s3.us-east-2.amazonaws.com)... 52.219.109.50\n",
            "Connecting to saturn-public-data.s3.us-east-2.amazonaws.com (saturn-public-data.s3.us-east-2.amazonaws.com)|52.219.109.50|:443... connected.\n",
            "HTTP request sent, awaiting response... 200 OK\n",
            "Length: 1291266853 (1.2G) [binary/octet-stream]\n",
            "Saving to: ‘sc_training.h5ad.2’\n",
            "\n",
            "sc_training.h5ad.2  100%[===================>]   1.20G  32.4MB/s    in 36s     \n",
            "\n",
            "2023-01-26 16:37:43 (34.6 MB/s) - ‘sc_training.h5ad.2’ saved [1291266853/1291266853]\n",
            "\n"
          ]
        }
      ],
      "source": [
        "!wget https://saturn-public-data.s3.us-east-2.amazonaws.com/cancer-immunotherapy-challenge/data/sc_training.h5ad"
      ]
    },
    {
      "cell_type": "code",
      "execution_count": 6,
      "metadata": {
        "colab": {
          "base_uri": "https://localhost:8080/"
        },
        "id": "DjcbuGhX-4ZM",
        "outputId": "06b2a68e-a025-4ac0-ff8a-3c9a36c62107"
      },
      "outputs": [
        {
          "name": "stdout",
          "output_type": "stream",
          "text": [
            "--2023-01-26 16:37:43--  https://saturn-public-data.s3.us-east-2.amazonaws.com/cancer-immunotherapy-challenge/code/sc_training_visualization.ipynb\n",
            "Resolving saturn-public-data.s3.us-east-2.amazonaws.com (saturn-public-data.s3.us-east-2.amazonaws.com)... 3.5.132.165\n",
            "Connecting to saturn-public-data.s3.us-east-2.amazonaws.com (saturn-public-data.s3.us-east-2.amazonaws.com)|3.5.132.165|:443... connected.\n",
            "HTTP request sent, awaiting response... 200 OK\n",
            "Length: 446576 (436K) [binary/octet-stream]\n",
            "Saving to: ‘sc_training_visualization.ipynb.2’\n",
            "\n",
            "sc_training_visuali 100%[===================>] 436.11K  1.82MB/s    in 0.2s    \n",
            "\n",
            "2023-01-26 16:37:44 (1.82 MB/s) - ‘sc_training_visualization.ipynb.2’ saved [446576/446576]\n",
            "\n"
          ]
        }
      ],
      "source": [
        "!wget https://saturn-public-data.s3.us-east-2.amazonaws.com/cancer-immunotherapy-challenge/code/sc_training_visualization.ipynb"
      ]
    },
    {
      "cell_type": "code",
      "execution_count": 7,
      "metadata": {
        "colab": {
          "base_uri": "https://localhost:8080/"
        },
        "id": "Zaz2cCfG-9OC",
        "outputId": "6f8faf5c-5a0a-47d8-9b4c-016d42b95dcf"
      },
      "outputs": [
        {
          "name": "stdout",
          "output_type": "stream",
          "text": [
            "--2023-01-26 16:37:44--  https://saturn-public-data.s3.us-east-2.amazonaws.com/cancer-immunotherapy-challenge/data/clone_information.csv\n",
            "Resolving saturn-public-data.s3.us-east-2.amazonaws.com (saturn-public-data.s3.us-east-2.amazonaws.com)... 3.5.132.165\n",
            "Connecting to saturn-public-data.s3.us-east-2.amazonaws.com (saturn-public-data.s3.us-east-2.amazonaws.com)|3.5.132.165|:443... connected.\n",
            "HTTP request sent, awaiting response... 200 OK\n",
            "Length: 1542596 (1.5M) [text/csv]\n",
            "Saving to: ‘clone_information.csv.2’\n",
            "\n",
            "clone_information.c 100%[===================>]   1.47M  7.59MB/s    in 0.2s    \n",
            "\n",
            "2023-01-26 16:37:45 (7.59 MB/s) - ‘clone_information.csv.2’ saved [1542596/1542596]\n",
            "\n"
          ]
        }
      ],
      "source": [
        "!wget https://saturn-public-data.s3.us-east-2.amazonaws.com/cancer-immunotherapy-challenge/data/clone_information.csv"
      ]
    },
    {
      "cell_type": "code",
      "execution_count": 8,
      "metadata": {
        "colab": {
          "base_uri": "https://localhost:8080/"
        },
        "id": "CojnTfVv-_k8",
        "outputId": "e2bad340-8df9-4c6f-c33e-a02d08e7cc41"
      },
      "outputs": [
        {
          "name": "stdout",
          "output_type": "stream",
          "text": [
            "--2023-01-26 16:37:45--  https://saturn-public-data.s3.us-east-2.amazonaws.com/cancer-immunotherapy-challenge/data/guide_abundance.csv\n",
            "Resolving saturn-public-data.s3.us-east-2.amazonaws.com (saturn-public-data.s3.us-east-2.amazonaws.com)... 3.5.132.165\n",
            "Connecting to saturn-public-data.s3.us-east-2.amazonaws.com (saturn-public-data.s3.us-east-2.amazonaws.com)|3.5.132.165|:443... connected.\n",
            "HTTP request sent, awaiting response... 200 OK\n",
            "Length: 4452 (4.3K) [text/csv]\n",
            "Saving to: ‘guide_abundance.csv.2’\n",
            "\n",
            "guide_abundance.csv 100%[===================>]   4.35K  --.-KB/s    in 0s      \n",
            "\n",
            "2023-01-26 16:37:45 (267 MB/s) - ‘guide_abundance.csv.2’ saved [4452/4452]\n",
            "\n"
          ]
        }
      ],
      "source": [
        "!wget https://saturn-public-data.s3.us-east-2.amazonaws.com/cancer-immunotherapy-challenge/data/guide_abundance.csv"
      ]
    },
    {
      "cell_type": "code",
      "execution_count": 9,
      "metadata": {
        "colab": {
          "base_uri": "https://localhost:8080/"
        },
        "id": "OZ3scgpT_Cwr",
        "outputId": "804013b3-fe61-4548-ed7c-4dce67e72810"
      },
      "outputs": [
        {
          "name": "stdout",
          "output_type": "stream",
          "text": [
            "--2023-01-26 16:37:46--  https://saturn-public-data.s3.us-east-2.amazonaws.com/cancer-immunotherapy-challenge/data/scRNA_ATAC.h5\n",
            "Resolving saturn-public-data.s3.us-east-2.amazonaws.com (saturn-public-data.s3.us-east-2.amazonaws.com)... 3.5.132.165\n",
            "Connecting to saturn-public-data.s3.us-east-2.amazonaws.com (saturn-public-data.s3.us-east-2.amazonaws.com)|3.5.132.165|:443... connected.\n",
            "HTTP request sent, awaiting response... 200 OK\n",
            "Length: 87606852 (84M) [application/x-hdf5]\n",
            "Saving to: ‘scRNA_ATAC.h5.2’\n",
            "\n",
            "scRNA_ATAC.h5.2     100%[===================>]  83.55M  29.4MB/s    in 2.8s    \n",
            "\n",
            "2023-01-26 16:37:49 (29.4 MB/s) - ‘scRNA_ATAC.h5.2’ saved [87606852/87606852]\n",
            "\n"
          ]
        }
      ],
      "source": [
        "!wget https://saturn-public-data.s3.us-east-2.amazonaws.com/cancer-immunotherapy-challenge/data/scRNA_ATAC.h5"
      ]
    },
    {
      "cell_type": "markdown",
      "metadata": {
        "id": "xnHHyZUeoII9"
      },
      "source": [
        "For *read_h5ad()*, see [scanpy documentation](https://scanpy.readthedocs.io/en/stable/generated/scanpy.read_h5ad.html)"
      ]
    },
    {
      "cell_type": "code",
      "execution_count": 10,
      "metadata": {
        "colab": {
          "base_uri": "https://localhost:8080/"
        },
        "id": "5jxmK85X-VUu",
        "outputId": "ff310e69-7278-41ff-cc27-b522ac5ba90f"
      },
      "outputs": [
        {
          "data": {
            "text/plain": [
              "AnnData object with n_obs × n_vars = 28697 × 15077\n",
              "    obs: 'gRNA_maxID', 'state', 'condition', 'lane'\n",
              "    layers: 'rawcounts'"
            ]
          },
          "execution_count": 10,
          "metadata": {},
          "output_type": "execute_result"
        }
      ],
      "source": [
        "adata = sc.read_h5ad('./sc_training.h5ad')\n",
        "adata"
      ]
    },
    {
      "cell_type": "markdown",
      "metadata": {
        "id": "mHok28d9nbei"
      },
      "source": [
        "For *adata* object type, see [AnnData documentation](https://anndata.readthedocs.io/en/stable/generated/anndata.AnnData.html#anndata.AnnData)"
      ]
    },
    {
      "cell_type": "code",
      "execution_count": 11,
      "metadata": {
        "colab": {
          "base_uri": "https://localhost:8080/",
          "height": 424
        },
        "id": "9XbVrdc7E-KR",
        "outputId": "4ad7f3f0-580e-475b-8176-0c8fb2adfb0d"
      },
      "outputs": [
        {
          "data": {
            "text/html": [
              "<div>\n",
              "<style scoped>\n",
              "    .dataframe tbody tr th:only-of-type {\n",
              "        vertical-align: middle;\n",
              "    }\n",
              "\n",
              "    .dataframe tbody tr th {\n",
              "        vertical-align: top;\n",
              "    }\n",
              "\n",
              "    .dataframe thead th {\n",
              "        text-align: right;\n",
              "    }\n",
              "</style>\n",
              "<table border=\"1\" class=\"dataframe\">\n",
              "  <thead>\n",
              "    <tr style=\"text-align: right;\">\n",
              "      <th></th>\n",
              "      <th>gRNA_maxID</th>\n",
              "      <th>state</th>\n",
              "      <th>condition</th>\n",
              "      <th>lane</th>\n",
              "    </tr>\n",
              "  </thead>\n",
              "  <tbody>\n",
              "    <tr>\n",
              "      <th>053l1_AAACCTGAGATGTCGG-1</th>\n",
              "      <td>ONE-NON-GENE-SITE-7</td>\n",
              "      <td>terminal exhausted</td>\n",
              "      <td>Unperturbed</td>\n",
              "      <td>lane1</td>\n",
              "    </tr>\n",
              "    <tr>\n",
              "      <th>053l1_AAACCTGAGCAACGGT-1</th>\n",
              "      <td>Tox2-3</td>\n",
              "      <td>effector</td>\n",
              "      <td>Tox2</td>\n",
              "      <td>lane1</td>\n",
              "    </tr>\n",
              "    <tr>\n",
              "      <th>053l1_AAACCTGAGTACGACG-1</th>\n",
              "      <td>Tpt1-2</td>\n",
              "      <td>effector</td>\n",
              "      <td>Tpt1</td>\n",
              "      <td>lane1</td>\n",
              "    </tr>\n",
              "    <tr>\n",
              "      <th>053l1_AAACCTGAGTCGTTTG-1</th>\n",
              "      <td>Tox2-3</td>\n",
              "      <td>terminal exhausted</td>\n",
              "      <td>Tox2</td>\n",
              "      <td>lane1</td>\n",
              "    </tr>\n",
              "    <tr>\n",
              "      <th>053l1_AAACCTGAGTGAAGAG-1</th>\n",
              "      <td>Tcf7-2</td>\n",
              "      <td>effector</td>\n",
              "      <td>Tcf7</td>\n",
              "      <td>lane1</td>\n",
              "    </tr>\n",
              "    <tr>\n",
              "      <th>...</th>\n",
              "      <td>...</td>\n",
              "      <td>...</td>\n",
              "      <td>...</td>\n",
              "      <td>...</td>\n",
              "    </tr>\n",
              "    <tr>\n",
              "      <th>053l4_TTTGTCATCAGGTTCA-1</th>\n",
              "      <td>Tox2-3</td>\n",
              "      <td>other</td>\n",
              "      <td>Tox2</td>\n",
              "      <td>lane4</td>\n",
              "    </tr>\n",
              "    <tr>\n",
              "      <th>053l4_TTTGTCATCAGTGTTG-1</th>\n",
              "      <td>Dvl2-3</td>\n",
              "      <td>cycling</td>\n",
              "      <td>Dvl2</td>\n",
              "      <td>lane4</td>\n",
              "    </tr>\n",
              "    <tr>\n",
              "      <th>053l4_TTTGTCATCCTCGCAT-1</th>\n",
              "      <td>Zeb2-2</td>\n",
              "      <td>cycling</td>\n",
              "      <td>Zeb2</td>\n",
              "      <td>lane4</td>\n",
              "    </tr>\n",
              "    <tr>\n",
              "      <th>053l4_TTTGTCATCTTCAACT-1</th>\n",
              "      <td>Sox4-3</td>\n",
              "      <td>cycling</td>\n",
              "      <td>Sox4</td>\n",
              "      <td>lane4</td>\n",
              "    </tr>\n",
              "    <tr>\n",
              "      <th>053l4_TTTGTCATCTTTCCTC-1</th>\n",
              "      <td>Dvl2-3</td>\n",
              "      <td>cycling</td>\n",
              "      <td>Dvl2</td>\n",
              "      <td>lane4</td>\n",
              "    </tr>\n",
              "  </tbody>\n",
              "</table>\n",
              "<p>28697 rows × 4 columns</p>\n",
              "</div>"
            ],
            "text/plain": [
              "                                   gRNA_maxID               state  \\\n",
              "053l1_AAACCTGAGATGTCGG-1  ONE-NON-GENE-SITE-7  terminal exhausted   \n",
              "053l1_AAACCTGAGCAACGGT-1               Tox2-3            effector   \n",
              "053l1_AAACCTGAGTACGACG-1               Tpt1-2            effector   \n",
              "053l1_AAACCTGAGTCGTTTG-1               Tox2-3  terminal exhausted   \n",
              "053l1_AAACCTGAGTGAAGAG-1               Tcf7-2            effector   \n",
              "...                                       ...                 ...   \n",
              "053l4_TTTGTCATCAGGTTCA-1               Tox2-3               other   \n",
              "053l4_TTTGTCATCAGTGTTG-1               Dvl2-3             cycling   \n",
              "053l4_TTTGTCATCCTCGCAT-1               Zeb2-2             cycling   \n",
              "053l4_TTTGTCATCTTCAACT-1               Sox4-3             cycling   \n",
              "053l4_TTTGTCATCTTTCCTC-1               Dvl2-3             cycling   \n",
              "\n",
              "                            condition   lane  \n",
              "053l1_AAACCTGAGATGTCGG-1  Unperturbed  lane1  \n",
              "053l1_AAACCTGAGCAACGGT-1         Tox2  lane1  \n",
              "053l1_AAACCTGAGTACGACG-1         Tpt1  lane1  \n",
              "053l1_AAACCTGAGTCGTTTG-1         Tox2  lane1  \n",
              "053l1_AAACCTGAGTGAAGAG-1         Tcf7  lane1  \n",
              "...                               ...    ...  \n",
              "053l4_TTTGTCATCAGGTTCA-1         Tox2  lane4  \n",
              "053l4_TTTGTCATCAGTGTTG-1         Dvl2  lane4  \n",
              "053l4_TTTGTCATCCTCGCAT-1         Zeb2  lane4  \n",
              "053l4_TTTGTCATCTTCAACT-1         Sox4  lane4  \n",
              "053l4_TTTGTCATCTTTCCTC-1         Dvl2  lane4  \n",
              "\n",
              "[28697 rows x 4 columns]"
            ]
          },
          "execution_count": 11,
          "metadata": {},
          "output_type": "execute_result"
        }
      ],
      "source": [
        "adata.obs"
      ]
    },
    {
      "cell_type": "markdown",
      "metadata": {
        "id": "mVK2u2N2ZZ_S"
      },
      "source": [
        "# 1.1 Preprocess data"
      ]
    },
    {
      "cell_type": "code",
      "execution_count": 12,
      "metadata": {
        "id": "CZca6tq7ZhFe"
      },
      "outputs": [],
      "source": [
        "# One-hot encoding of the categorical 'lane' variable \n",
        "\n",
        "obs = adata.obs\n",
        "lane_data = obs['lane'].values\n",
        "lane_data_unique = np.sort(list(set(lane_data))).reshape(-1, 1)\n",
        "\n",
        "# If the obs['lane'] is categorical variable, it's better to encode it using one-hot encoding \n",
        "# before adding it to the X_train to avoid any bias in the model.\n",
        "encoder = OneHotEncoder()\n",
        "one_hot_encoded = np.array(encoder.fit_transform(lane_data_unique).toarray())\n",
        "lane_data_dict = {lane_data_unique[i][0]: one_hot_encoded[i] for i in \n",
        "                  range(len(lane_data_unique))}\n",
        "one_hot_lane_data = [lane_data_dict[lane] for lane in lane_data]"
      ]
    },
    {
      "cell_type": "code",
      "execution_count": 13,
      "metadata": {
        "id": "SAFV0Dm4oJAN"
      },
      "outputs": [],
      "source": [
        "obs = adata.obs\n",
        "genes = adata.var.index.tolist()\n",
        "\n",
        "expression_data = adata.X\n",
        "\n",
        "# embeds one_hot_lane_data into expression data\n",
        "# one_hot_lane_data = np.array(one_hot_lane_data)\n",
        "# print(one_hot_lane_data)\n",
        "# from scipy.sparse import hstack\n",
        "# expression_data = hstack((expression_data, one_hot_lane_data)).toarray()[-4:]\n",
        "\n",
        "expression_data_csc = expression_data.tocsc()\n",
        "\n",
        "test_genes = ['Ets1', 'Fosb', 'Mafk', 'Stat3']\n",
        "validation_genes = ['Aqr', 'Bach2', 'Bhlhe40']\n",
        "\n",
        "test_indices = [genes.index(x) for x in test_genes if x in genes]\n",
        "validation_indices = [genes.index(x) for x in validation_genes if x in genes]\n",
        "\n",
        "X_test = expression_data_csc[:, test_indices]\n",
        "X_test = X_test.tocsr()\n",
        "X_val = expression_data_csc[:, validation_indices]\n",
        "X_val = X_val.tocsr()\n",
        "\n",
        "all_indices = jnp.arange(expression_data_csc.shape[1])\n",
        "rm_indices = test_indices + validation_indices\n",
        "rm_indices.sort()\n",
        "keep_indices = jnp.setdiff1d(jnp.array(all_indices), jnp.array(rm_indices))\n",
        "\n",
        "expression_data_csc = expression_data_csc[:, keep_indices]\n",
        "X_train = expression_data_csc.tocsr()\n",
        "\n",
        "obs_cond_idx = obs.set_index('condition')\n",
        "\n",
        "exclude_list = ['Unperturbed', 'Fzd1', 'P2rx7']\n",
        "dropped_obs = obs_cond_idx.drop(index=exclude_list)\n",
        "\n",
        "removed_indices = obs_cond_idx.index.isin(exclude_list)\n",
        "\n",
        "X_train, X_test, X_val = X_train[~removed_indices], X_test[~removed_indices],\\\n",
        "                          X_val[~removed_indices]\n",
        "X_train, X_test, X_val = X_train.toarray(), X_test.toarray(), X_val.toarray()"
      ]
    },
    {
      "cell_type": "markdown",
      "metadata": {
        "id": "L852YbKTwPPh"
      },
      "source": [
        "Now we have our train, test and validation samples. \n",
        "\n"
      ]
    },
    {
      "cell_type": "code",
      "execution_count": 14,
      "metadata": {
        "id": "dXjs8ZKw0cDf"
      },
      "outputs": [],
      "source": [
        "states = ['progenitor', 'effector', 'terminal exhausted', 'cycling', 'other']\n",
        "ground_truth = {}\n",
        "\n",
        "for gene in genes:\n",
        "  state_frequency = {state: 0 for state in states}\n",
        "  rows = obs[obs['condition'] == gene]\n",
        "\n",
        "  if not rows.empty:  \n",
        "    for index, row in rows.iterrows():\n",
        "        state = row['state']\n",
        "        if state not in states:\n",
        "          state_frequency['other'] += 1\n",
        "        else:\n",
        "          state_frequency[state] += 1\n",
        "    \n",
        "    total_count = sum(state_frequency.values())\n",
        "    for state, count in state_frequency.items():\n",
        "        state_frequency[state] = count / total_count\n",
        "    \n",
        "    ground_truth[gene] = list(state_frequency.values())"
      ]
    },
    {
      "cell_type": "markdown",
      "metadata": {
        "id": "XCtmkBzFvxty"
      },
      "source": [
        "Now we have a dictionary that stores the ground truth, i.e. the cell state frequencies, for each gene. Note that each list in this dictionary sums to 1, as required. We have 64 ground truth vectors because of the 66 knockout experiments that are used for training purposes, 2 did not pass quality control (see: [challenge 1 document](https://drive.google.com/file/d/1rR5oIhETmyVu6Uo5BsWjIokdBZctKzCE/view)). \n",
        "\n",
        "Next up, we'll have to generate our y_data and filter the unperturbed, and genes that didn't pass the quality control from our training and testing data."
      ]
    },
    {
      "cell_type": "code",
      "execution_count": 15,
      "metadata": {
        "colab": {
          "base_uri": "https://localhost:8080/",
          "height": 455
        },
        "id": "WWsKC6BBJG6q",
        "outputId": "a9982a94-4bf1-422f-e7d9-61bf5aea1368"
      },
      "outputs": [
        {
          "data": {
            "text/html": [
              "<div>\n",
              "<style scoped>\n",
              "    .dataframe tbody tr th:only-of-type {\n",
              "        vertical-align: middle;\n",
              "    }\n",
              "\n",
              "    .dataframe tbody tr th {\n",
              "        vertical-align: top;\n",
              "    }\n",
              "\n",
              "    .dataframe thead th {\n",
              "        text-align: right;\n",
              "    }\n",
              "</style>\n",
              "<table border=\"1\" class=\"dataframe\">\n",
              "  <thead>\n",
              "    <tr style=\"text-align: right;\">\n",
              "      <th></th>\n",
              "      <th>progenitor</th>\n",
              "      <th>effector</th>\n",
              "      <th>terminal exhausted</th>\n",
              "      <th>cycling</th>\n",
              "      <th>other</th>\n",
              "    </tr>\n",
              "    <tr>\n",
              "      <th>condition</th>\n",
              "      <th></th>\n",
              "      <th></th>\n",
              "      <th></th>\n",
              "      <th></th>\n",
              "      <th></th>\n",
              "    </tr>\n",
              "  </thead>\n",
              "  <tbody>\n",
              "    <tr>\n",
              "      <th>Tox2</th>\n",
              "      <td>0.017309</td>\n",
              "      <td>0.057004</td>\n",
              "      <td>0.367874</td>\n",
              "      <td>0.53081</td>\n",
              "      <td>0.027002</td>\n",
              "    </tr>\n",
              "    <tr>\n",
              "      <th>Tpt1</th>\n",
              "      <td>0.44</td>\n",
              "      <td>0.16</td>\n",
              "      <td>0.12</td>\n",
              "      <td>0.28</td>\n",
              "      <td>0.0</td>\n",
              "    </tr>\n",
              "    <tr>\n",
              "      <th>Tox2</th>\n",
              "      <td>0.017309</td>\n",
              "      <td>0.057004</td>\n",
              "      <td>0.367874</td>\n",
              "      <td>0.53081</td>\n",
              "      <td>0.027002</td>\n",
              "    </tr>\n",
              "    <tr>\n",
              "      <th>Tcf7</th>\n",
              "      <td>0.104377</td>\n",
              "      <td>0.292929</td>\n",
              "      <td>0.313131</td>\n",
              "      <td>0.276094</td>\n",
              "      <td>0.013468</td>\n",
              "    </tr>\n",
              "    <tr>\n",
              "      <th>Tox2</th>\n",
              "      <td>0.017309</td>\n",
              "      <td>0.057004</td>\n",
              "      <td>0.367874</td>\n",
              "      <td>0.53081</td>\n",
              "      <td>0.027002</td>\n",
              "    </tr>\n",
              "    <tr>\n",
              "      <th>...</th>\n",
              "      <td>...</td>\n",
              "      <td>...</td>\n",
              "      <td>...</td>\n",
              "      <td>...</td>\n",
              "      <td>...</td>\n",
              "    </tr>\n",
              "    <tr>\n",
              "      <th>Tox2</th>\n",
              "      <td>0.017309</td>\n",
              "      <td>0.057004</td>\n",
              "      <td>0.367874</td>\n",
              "      <td>0.53081</td>\n",
              "      <td>0.027002</td>\n",
              "    </tr>\n",
              "    <tr>\n",
              "      <th>Dvl2</th>\n",
              "      <td>0.02439</td>\n",
              "      <td>0.115509</td>\n",
              "      <td>0.304188</td>\n",
              "      <td>0.549471</td>\n",
              "      <td>0.006443</td>\n",
              "    </tr>\n",
              "    <tr>\n",
              "      <th>Zeb2</th>\n",
              "      <td>0.017483</td>\n",
              "      <td>0.115385</td>\n",
              "      <td>0.282051</td>\n",
              "      <td>0.439394</td>\n",
              "      <td>0.145688</td>\n",
              "    </tr>\n",
              "    <tr>\n",
              "      <th>Sox4</th>\n",
              "      <td>0.069697</td>\n",
              "      <td>0.112121</td>\n",
              "      <td>0.290909</td>\n",
              "      <td>0.512121</td>\n",
              "      <td>0.015152</td>\n",
              "    </tr>\n",
              "    <tr>\n",
              "      <th>Dvl2</th>\n",
              "      <td>0.02439</td>\n",
              "      <td>0.115509</td>\n",
              "      <td>0.304188</td>\n",
              "      <td>0.549471</td>\n",
              "      <td>0.006443</td>\n",
              "    </tr>\n",
              "  </tbody>\n",
              "</table>\n",
              "<p>23411 rows × 5 columns</p>\n",
              "</div>"
            ],
            "text/plain": [
              "          progenitor  effector terminal exhausted   cycling     other\n",
              "condition                                                            \n",
              "Tox2        0.017309  0.057004           0.367874   0.53081  0.027002\n",
              "Tpt1            0.44      0.16               0.12      0.28       0.0\n",
              "Tox2        0.017309  0.057004           0.367874   0.53081  0.027002\n",
              "Tcf7        0.104377  0.292929           0.313131  0.276094  0.013468\n",
              "Tox2        0.017309  0.057004           0.367874   0.53081  0.027002\n",
              "...              ...       ...                ...       ...       ...\n",
              "Tox2        0.017309  0.057004           0.367874   0.53081  0.027002\n",
              "Dvl2         0.02439  0.115509           0.304188  0.549471  0.006443\n",
              "Zeb2        0.017483  0.115385           0.282051  0.439394  0.145688\n",
              "Sox4        0.069697  0.112121           0.290909  0.512121  0.015152\n",
              "Dvl2         0.02439  0.115509           0.304188  0.549471  0.006443\n",
              "\n",
              "[23411 rows x 5 columns]"
            ]
          },
          "execution_count": 15,
          "metadata": {},
          "output_type": "execute_result"
        }
      ],
      "source": [
        "y_data_dict = ground_truth.copy()\n",
        "y_data = pd.DataFrame.from_dict(y_data_dict, orient='index', \n",
        "                                         columns=['progenitor', 'effector', \n",
        "                                         'terminal exhausted', 'cycling', \n",
        "                                         'other'])\n",
        "y_data_expand = pd.DataFrame(columns=y_data.columns, index=dropped_obs.index)\n",
        "idx = 0\n",
        "for condition, row in dropped_obs.iterrows():\n",
        "    gene = condition\n",
        "    state_data = y_data.loc[gene]\n",
        "    y_data_expand.iloc[idx] = state_data\n",
        "    idx += 1\n",
        "\n",
        "y_train = y_data_expand\n",
        "y_train"
      ]
    },
    {
      "cell_type": "code",
      "execution_count": 16,
      "metadata": {
        "colab": {
          "base_uri": "https://localhost:8080/"
        },
        "id": "O-i40N8eOKj0",
        "outputId": "a2a3e970-ec03-4e39-99b4-0f116c94a774"
      },
      "outputs": [
        {
          "data": {
            "text/plain": [
              "(23411, 15070)"
            ]
          },
          "execution_count": 16,
          "metadata": {},
          "output_type": "execute_result"
        }
      ],
      "source": [
        "X = X_train\n",
        "X.shape"
      ]
    },
    {
      "cell_type": "code",
      "execution_count": 17,
      "metadata": {
        "colab": {
          "base_uri": "https://localhost:8080/"
        },
        "id": "0lJkLn2iMs4h",
        "outputId": "84761a54-97cc-4840-fafa-e33997e370e3"
      },
      "outputs": [
        {
          "data": {
            "text/plain": [
              "array([[0.484, 0.484, 0.809, ..., 0.   , 0.   , 0.   ],\n",
              "       [0.   , 0.   , 0.   , ..., 0.   , 0.   , 0.   ],\n",
              "       [0.   , 0.   , 0.   , ..., 0.   , 0.   , 0.   ],\n",
              "       ...,\n",
              "       [0.   , 0.   , 0.   , ..., 0.   , 0.   , 0.   ],\n",
              "       [0.383, 0.   , 0.383, ..., 0.   , 0.   , 0.   ],\n",
              "       [0.   , 0.   , 0.   , ..., 0.   , 0.   , 0.   ]], dtype=float32)"
            ]
          },
          "execution_count": 17,
          "metadata": {},
          "output_type": "execute_result"
        }
      ],
      "source": [
        "X_train"
      ]
    },
    {
      "cell_type": "code",
      "execution_count": 18,
      "metadata": {
        "colab": {
          "base_uri": "https://localhost:8080/"
        },
        "id": "qTDpaR04yB1i",
        "outputId": "44fd0fb1-21c5-4150-f5b5-a45ebfdeeb90"
      },
      "outputs": [
        {
          "data": {
            "text/plain": [
              "array([[0.017309023771059313, 0.05700438495268867, 0.36787445188091394,\n",
              "        0.5308100623124856, 0.027002077082852526],\n",
              "       [0.44, 0.16, 0.12, 0.28, 0.0],\n",
              "       [0.017309023771059313, 0.05700438495268867, 0.36787445188091394,\n",
              "        0.5308100623124856, 0.027002077082852526],\n",
              "       ...,\n",
              "       [0.017482517482517484, 0.11538461538461539, 0.28205128205128205,\n",
              "        0.4393939393939394, 0.1456876456876457],\n",
              "       [0.0696969696969697, 0.11212121212121212, 0.2909090909090909,\n",
              "        0.5121212121212121, 0.015151515151515152],\n",
              "       [0.024390243902439025, 0.1155085135757018, 0.3041877588587207,\n",
              "        0.5494707777266452, 0.006442705936493327]], dtype=object)"
            ]
          },
          "execution_count": 18,
          "metadata": {},
          "output_type": "execute_result"
        }
      ],
      "source": [
        "\n",
        "obs = obs.reindex(y_train.index)\n",
        "y_train = np.array(y_train)\n",
        "\n",
        "y = y_train\n",
        "y"
      ]
    },
    {
      "cell_type": "code",
      "execution_count": 19,
      "metadata": {
        "colab": {
          "base_uri": "https://localhost:8080/"
        },
        "id": "2M91jXQShuHV",
        "outputId": "a827d4b2-9db6-487c-8eef-de4d57ab1ee4"
      },
      "outputs": [
        {
          "data": {
            "text/plain": [
              "(23411, 5)"
            ]
          },
          "execution_count": 19,
          "metadata": {},
          "output_type": "execute_result"
        }
      ],
      "source": [
        "y.shape"
      ]
    },
    {
      "cell_type": "markdown",
      "metadata": {
        "id": "2pmR5R7ELPF-"
      },
      "source": [
        "Note that we do not have y_test and y_val, as these will be used to evaluate the performance of our model in the competition. "
      ]
    },
    {
      "cell_type": "code",
      "execution_count": 20,
      "metadata": {
        "id": "U7U-snDhA4Ls"
      },
      "outputs": [],
      "source": [
        "X_train, X_test, y_train, y_test = train_test_split(X, y, test_size=0.5, \n",
        "                                                    random_state=42)"
      ]
    },
    {
      "cell_type": "code",
      "execution_count": 21,
      "metadata": {},
      "outputs": [],
      "source": [
        "X_test, X_val, y_test, y_val = train_test_split(X_test, y_test, test_size=0.5, \n",
        "                                                    random_state=42)"
      ]
    },
    {
      "cell_type": "code",
      "execution_count": 22,
      "metadata": {
        "id": "bXTRYGJhQLSZ"
      },
      "outputs": [],
      "source": [
        "#combines X and Y into XY\n",
        "XY_train = np.hstack([X_train, y_train])\n",
        "XY_test = np.hstack([X_test, y_test])\n",
        "XY_val = np.hstack([X_val, y_val])"
      ]
    },
    {
      "cell_type": "code",
      "execution_count": 23,
      "metadata": {
        "id": "lsNUq8AwRh3A"
      },
      "outputs": [
        {
          "data": {
            "text/plain": [
              "array([[0.5309228897094727, 0.16137471795082092, 0.7182062268257141, ...,\n",
              "        0.36787445188091394, 0.5308100623124856, 0.027002077082852526],\n",
              "       [0.9331774115562439, 0.41488176584243774, 0.7072390913963318, ...,\n",
              "        0.3372262773722628, 0.5065693430656935, 0.0072992700729927005],\n",
              "       [0.0, 0.0, 1.1740710735321045, ..., 0.21419185282522996,\n",
              "        0.3088042049934297, 0.017082785808147174],\n",
              "       ...,\n",
              "       [0.9470462799072266, 0.0, 1.0625360012054443, ...,\n",
              "        0.41298917568692756, 0.5137385512073273, 0.017485428809325562],\n",
              "       [0.0, 0.2695150673389435, 0.9347774982452393, ...,\n",
              "        0.24739583333333334, 0.3541666666666667, 0.010416666666666666],\n",
              "       [0.0, 0.0, 0.0, ..., 0.23648648648648649, 0.30236486486486486,\n",
              "        0.013513513513513514]], dtype=object)"
            ]
          },
          "execution_count": 23,
          "metadata": {},
          "output_type": "execute_result"
        }
      ],
      "source": [
        "XY_train"
      ]
    },
    {
      "cell_type": "code",
      "execution_count": 24,
      "metadata": {
        "id": "NP9ZU8FjRmVf"
      },
      "outputs": [
        {
          "data": {
            "text/plain": [
              "(11705, 15075)"
            ]
          },
          "execution_count": 24,
          "metadata": {},
          "output_type": "execute_result"
        }
      ],
      "source": [
        "XY_train.shape"
      ]
    },
    {
      "cell_type": "code",
      "execution_count": 25,
      "metadata": {
        "id": "0gS9P9tkRjWK"
      },
      "outputs": [
        {
          "data": {
            "text/plain": [
              "array([[0.45826488733291626, 0.45826488733291626, 1.0094106197357178,\n",
              "        ..., 0.28146853146853146, 0.3916083916083916,\n",
              "        0.013986013986013986],\n",
              "       [0.8200652599334717, 0.8200652599334717, 0.0, ...,\n",
              "        0.41298917568692756, 0.5137385512073273, 0.017485428809325562],\n",
              "       [0.4400346577167511, 0.4400346577167511, 0.8678995370864868, ...,\n",
              "        0.41298917568692756, 0.5137385512073273, 0.017485428809325562],\n",
              "       ...,\n",
              "       [0.5495771169662476, 0.5495771169662476, 0.7413564324378967, ...,\n",
              "        0.41298917568692756, 0.5137385512073273, 0.017485428809325562],\n",
              "       [0.0, 0.20541076362133026, 0.37573331594467163, ...,\n",
              "        0.28146853146853146, 0.3916083916083916, 0.013986013986013986],\n",
              "       [0.0, 0.0, 0.5106656551361084, ..., 0.36787445188091394,\n",
              "        0.5308100623124856, 0.027002077082852526]], dtype=object)"
            ]
          },
          "execution_count": 25,
          "metadata": {},
          "output_type": "execute_result"
        }
      ],
      "source": [
        "XY_test"
      ]
    },
    {
      "cell_type": "code",
      "execution_count": 26,
      "metadata": {
        "id": "WQcZp6bvRoAq"
      },
      "outputs": [
        {
          "data": {
            "text/plain": [
              "(5853, 15075)"
            ]
          },
          "execution_count": 26,
          "metadata": {},
          "output_type": "execute_result"
        }
      ],
      "source": [
        "XY_test.shape"
      ]
    },
    {
      "cell_type": "code",
      "execution_count": 27,
      "metadata": {},
      "outputs": [
        {
          "data": {
            "text/plain": [
              "(5853, 15075)"
            ]
          },
          "execution_count": 27,
          "metadata": {},
          "output_type": "execute_result"
        }
      ],
      "source": [
        "XY_val.shape"
      ]
    },
    {
      "cell_type": "code",
      "execution_count": 28,
      "metadata": {
        "id": "x7RVvWccNq5g"
      },
      "outputs": [],
      "source": [
        "#save the data for NLP model training\n",
        "np.savetxt('train.csv', XY_train, delimiter=' ')\n",
        "np.savetxt('test.csv', XY_test, delimiter=' ')\n",
        "np.savetxt('validation.csv', XY_val, delimiter=' ')"
      ]
    },
    {
      "cell_type": "markdown",
      "metadata": {
        "id": "1OXSiEfxbHBz"
      },
      "source": [
        "# 2. Random Forest"
      ]
    },
    {
      "cell_type": "markdown",
      "metadata": {
        "id": "l18u-2unbHB2"
      },
      "source": [
        "## 3.1. Random Forest Regression\n"
      ]
    },
    {
      "cell_type": "code",
      "execution_count": 29,
      "metadata": {
        "id": "Njpt40H8bHB2"
      },
      "outputs": [],
      "source": [
        "rfr = RandomForestRegressor(n_estimators=100, random_state=42)"
      ]
    },
    {
      "cell_type": "code",
      "execution_count": 30,
      "metadata": {
        "id": "o6ayjTB5bHB4"
      },
      "outputs": [
        {
          "name": "stdout",
          "output_type": "stream",
          "text": [
            "Number of estimators fitted:\n",
            "\n"
          ]
        },
        {
          "name": "stderr",
          "output_type": "stream",
          "text": [
            " 32%|███▏      | 32/100 [9:02:08<34:26:57, 1823.79s/it]"
          ]
        }
      ],
      "source": [
        "print('Number of estimators fitted:\\n')\n",
        "for i in tqdm(range(100)):\n",
        "  rfr.set_params(n_estimators=i+1)\n",
        "  rfr.fit(X_train, y_train)"
      ]
    },
    {
      "cell_type": "code",
      "execution_count": null,
      "metadata": {
        "id": "jA3fPa2fbHB5"
      },
      "outputs": [],
      "source": [
        "y_pred = rfr.predict(X_train)\n",
        "y_pred"
      ]
    },
    {
      "cell_type": "code",
      "execution_count": null,
      "metadata": {
        "id": "Z2nhp0I0S8Ke"
      },
      "outputs": [],
      "source": [
        "y_pred.shape"
      ]
    },
    {
      "cell_type": "code",
      "execution_count": null,
      "metadata": {
        "id": "AaVpTdRHRmih"
      },
      "outputs": [],
      "source": [
        "print(mean_absolute_error(y_test, rfr.predict(X_test)).round(3))"
      ]
    },
    {
      "cell_type": "markdown",
      "metadata": {
        "id": "Sz5FkjWrbHB_"
      },
      "source": [
        "___\n",
        "\n",
        "# 4. Gradient Boosting"
      ]
    },
    {
      "cell_type": "code",
      "execution_count": null,
      "metadata": {
        "id": "a9pmSTUVbHB_"
      },
      "outputs": [],
      "source": [
        "# Loss functions\n",
        "def MSE(y_true:jnp.array, y_pred:jnp.array):\n",
        "    return jnp.mean(jnp.sum(jnp.square(y_true-y_pred)))\n",
        "\n",
        "def CrossEntropy(y_true:jnp.array, y_proba:jnp.array):\n",
        "    y_proba = jnp.clip(y_proba, 1e-5, 1 - 1e-5)\n",
        "    return jnp.sum(- y_true * jnp.log(y_proba) - (1 - y_true) * jnp.log(1 - y_proba))"
      ]
    },
    {
      "cell_type": "code",
      "execution_count": null,
      "metadata": {
        "id": "RqJIy-aybHCA"
      },
      "outputs": [],
      "source": [
        "class GradientBoosting:\n",
        "\n",
        "    def __init__(self, n_estimators:int=100, learning_rate:float=.1, regression:bool=True, **kwargs):\n",
        "        self.n_estimators = n_estimators\n",
        "        self.learning_rate = learning_rate\n",
        "        self.regression = regression\n",
        "        self.loss = MSE if self.regression else CrossEntropy\n",
        "\n",
        "        self.estimators = []\n",
        "        for _ in range(self.n_estimators):\n",
        "                self.estimators.append(DecisionTreeRegressor(**kwargs))\n",
        "\n",
        "    def fit(self, X:np.array, y:np.array):\n",
        "        y_pred = np.full(np.shape(y), np.mean(y))\n",
        "        for i, estimator in enumerate(self.estimators):\n",
        "            gradient = jax.grad(self.loss, argnums=1)(y.astype(np.float32), y_pred.astype(np.float32))\n",
        "            self.estimators[i].fit(X, gradient)\n",
        "            update = self.estimators[i].predict(X)\n",
        "            y_pred -= (self.learning_rate * update)\n",
        "\n",
        "    def predict(self, X:np.array):\n",
        "        y_pred = np.zeros(X.shape[0], dtype=np.float32)\n",
        "        for estimator in self.estimators:\n",
        "            y_pred -= (self.learning_rate * estimator.predict(X))\n",
        "    \n",
        "        if not self.regression:\n",
        "            return np.where(1/(1 + np.exp(-y_pred))>.5, 1, 0)\n",
        "        return y_pred"
      ]
    },
    {
      "cell_type": "markdown",
      "metadata": {
        "id": "u8XMuLqdbHCB"
      },
      "source": [
        "## 4.1 Gradient Boosting Regressor"
      ]
    },
    {
      "cell_type": "code",
      "execution_count": null,
      "metadata": {
        "id": "jqH293E4bHCC"
      },
      "outputs": [],
      "source": [
        "gbr = GradientBoosting(regression=True)"
      ]
    },
    {
      "cell_type": "code",
      "execution_count": null,
      "metadata": {
        "id": "jeIDQWhIbHCD"
      },
      "outputs": [],
      "source": [
        "gbr.fit(X_train_r, y_train_r)"
      ]
    },
    {
      "cell_type": "code",
      "execution_count": null,
      "metadata": {
        "id": "iV6RLwq6bHCE"
      },
      "outputs": [],
      "source": [
        "print(mean_absolute_error(gbr.predict(X_test_r), y_test_r).round(3))"
      ]
    },
    {
      "cell_type": "markdown",
      "metadata": {
        "id": "f_1SNcHhbHCF"
      },
      "source": [
        "## 4.2 Gradient Boosting Classifier"
      ]
    },
    {
      "cell_type": "code",
      "execution_count": null,
      "metadata": {
        "id": "uqyUxIf4bHCF"
      },
      "outputs": [],
      "source": [
        "gbc = GradientBoosting(regression=False)"
      ]
    },
    {
      "cell_type": "code",
      "execution_count": null,
      "metadata": {
        "id": "K_3r58afbHCG"
      },
      "outputs": [],
      "source": [
        "gbc.fit(X_train_c, y_train_c)"
      ]
    },
    {
      "cell_type": "code",
      "execution_count": null,
      "metadata": {
        "id": "0XXeK9LwbHCH"
      },
      "outputs": [],
      "source": [
        "print(accuracy_score(gbc.predict(X_test_c), y_test_c).round(3))"
      ]
    },
    {
      "cell_type": "code",
      "execution_count": null,
      "metadata": {
        "id": "J6OCwqH4bk7W"
      },
      "outputs": [],
      "source": []
    }
  ],
  "metadata": {
    "accelerator": "GPU",
    "colab": {
      "provenance": []
    },
    "gpuClass": "standard",
    "kernelspec": {
      "display_name": "Python 3.8.10 64-bit",
      "language": "python",
      "name": "python3"
    },
    "language_info": {
      "codemirror_mode": {
        "name": "ipython",
        "version": 3
      },
      "file_extension": ".py",
      "mimetype": "text/x-python",
      "name": "python",
      "nbconvert_exporter": "python",
      "pygments_lexer": "ipython3",
      "version": "3.8.10"
    },
    "vscode": {
      "interpreter": {
        "hash": "916dbcbb3f70747c44a77c7bcd40155683ae19c65e1c03b4aa3499c5328201f1"
      }
    }
  },
  "nbformat": 4,
  "nbformat_minor": 0
}
