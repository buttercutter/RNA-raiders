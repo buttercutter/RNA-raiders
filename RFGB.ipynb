{
  "nbformat": 4,
  "nbformat_minor": 0,
  "metadata": {
    "kernelspec": {
      "display_name": "Python 3",
      "language": "python",
      "name": "python3"
    },
    "language_info": {
      "codemirror_mode": {
        "name": "ipython",
        "version": 3
      },
      "file_extension": ".py",
      "mimetype": "text/x-python",
      "name": "python",
      "nbconvert_exporter": "python",
      "pygments_lexer": "ipython3",
      "version": "3.7.6"
    },
    "colab": {
      "provenance": []
    }
  },
  "cells": [
    {
      "cell_type": "code",
      "source": [
        "!pip install matplotlib scanpy scipy"
      ],
      "metadata": {
        "colab": {
          "base_uri": "https://localhost:8080/"
        },
        "id": "EllnJQ_2-SIu",
        "outputId": "17964702-9e62-4bdf-96b0-9764b1d5120d"
      },
      "execution_count": 1,
      "outputs": [
        {
          "output_type": "stream",
          "name": "stdout",
          "text": [
            "Looking in indexes: https://pypi.org/simple, https://us-python.pkg.dev/colab-wheels/public/simple/\n",
            "Requirement already satisfied: matplotlib in /usr/local/lib/python3.8/dist-packages (3.6.3)\n",
            "Requirement already satisfied: scanpy in /usr/local/lib/python3.8/dist-packages (1.9.1)\n",
            "Requirement already satisfied: scipy in /usr/local/lib/python3.8/dist-packages (1.7.3)\n",
            "Requirement already satisfied: kiwisolver>=1.0.1 in /usr/local/lib/python3.8/dist-packages (from matplotlib) (1.4.4)\n",
            "Requirement already satisfied: pyparsing>=2.2.1 in /usr/local/lib/python3.8/dist-packages (from matplotlib) (3.0.9)\n",
            "Requirement already satisfied: packaging>=20.0 in /usr/local/lib/python3.8/dist-packages (from matplotlib) (21.3)\n",
            "Requirement already satisfied: numpy>=1.19 in /usr/local/lib/python3.8/dist-packages (from matplotlib) (1.21.6)\n",
            "Requirement already satisfied: cycler>=0.10 in /usr/local/lib/python3.8/dist-packages (from matplotlib) (0.11.0)\n",
            "Requirement already satisfied: fonttools>=4.22.0 in /usr/local/lib/python3.8/dist-packages (from matplotlib) (4.38.0)\n",
            "Requirement already satisfied: pillow>=6.2.0 in /usr/local/lib/python3.8/dist-packages (from matplotlib) (7.1.2)\n",
            "Requirement already satisfied: python-dateutil>=2.7 in /usr/local/lib/python3.8/dist-packages (from matplotlib) (2.8.2)\n",
            "Requirement already satisfied: contourpy>=1.0.1 in /usr/local/lib/python3.8/dist-packages (from matplotlib) (1.0.6)\n",
            "Requirement already satisfied: pandas>=1.0 in /usr/local/lib/python3.8/dist-packages (from scanpy) (1.3.5)\n",
            "Requirement already satisfied: numba>=0.41.0 in /usr/local/lib/python3.8/dist-packages (from scanpy) (0.56.4)\n",
            "Requirement already satisfied: patsy in /usr/local/lib/python3.8/dist-packages (from scanpy) (0.5.3)\n",
            "Requirement already satisfied: seaborn in /usr/local/lib/python3.8/dist-packages (from scanpy) (0.11.2)\n",
            "Requirement already satisfied: joblib in /usr/local/lib/python3.8/dist-packages (from scanpy) (1.2.0)\n",
            "Requirement already satisfied: h5py>=3 in /usr/local/lib/python3.8/dist-packages (from scanpy) (3.1.0)\n",
            "Requirement already satisfied: tqdm in /usr/local/lib/python3.8/dist-packages (from scanpy) (4.64.1)\n",
            "Requirement already satisfied: umap-learn>=0.3.10 in /usr/local/lib/python3.8/dist-packages (from scanpy) (0.5.3)\n",
            "Requirement already satisfied: session-info in /usr/local/lib/python3.8/dist-packages (from scanpy) (1.0.0)\n",
            "Requirement already satisfied: anndata>=0.7.4 in /usr/local/lib/python3.8/dist-packages (from scanpy) (0.8.0)\n",
            "Requirement already satisfied: natsort in /usr/local/lib/python3.8/dist-packages (from scanpy) (5.5.0)\n",
            "Requirement already satisfied: statsmodels>=0.10.0rc2 in /usr/local/lib/python3.8/dist-packages (from scanpy) (0.12.2)\n",
            "Requirement already satisfied: scikit-learn>=0.22 in /usr/local/lib/python3.8/dist-packages (from scanpy) (1.0.2)\n",
            "Requirement already satisfied: networkx>=2.3 in /usr/local/lib/python3.8/dist-packages (from scanpy) (3.0)\n",
            "Requirement already satisfied: llvmlite<0.40,>=0.39.0dev0 in /usr/local/lib/python3.8/dist-packages (from numba>=0.41.0->scanpy) (0.39.1)\n",
            "Requirement already satisfied: importlib-metadata in /usr/local/lib/python3.8/dist-packages (from numba>=0.41.0->scanpy) (6.0.0)\n",
            "Requirement already satisfied: setuptools in /usr/local/lib/python3.8/dist-packages (from numba>=0.41.0->scanpy) (57.4.0)\n",
            "Requirement already satisfied: pytz>=2017.3 in /usr/local/lib/python3.8/dist-packages (from pandas>=1.0->scanpy) (2022.7)\n",
            "Requirement already satisfied: six>=1.5 in /usr/local/lib/python3.8/dist-packages (from python-dateutil>=2.7->matplotlib) (1.15.0)\n",
            "Requirement already satisfied: threadpoolctl>=2.0.0 in /usr/local/lib/python3.8/dist-packages (from scikit-learn>=0.22->scanpy) (3.1.0)\n",
            "Requirement already satisfied: pynndescent>=0.5 in /usr/local/lib/python3.8/dist-packages (from umap-learn>=0.3.10->scanpy) (0.5.8)\n",
            "Requirement already satisfied: stdlib-list in /usr/local/lib/python3.8/dist-packages (from session-info->scanpy) (0.8.0)\n",
            "Requirement already satisfied: zipp>=0.5 in /usr/local/lib/python3.8/dist-packages (from importlib-metadata->numba>=0.41.0->scanpy) (3.11.0)\n"
          ]
        }
      ]
    },
    {
      "cell_type": "code",
      "metadata": {
        "id": "UW6F429obHBq"
      },
      "source": [
        "from sklearn.tree import DecisionTreeRegressor, DecisionTreeClassifier\n",
        "from sklearn.datasets import load_boston, load_breast_cancer\n",
        "from sklearn.model_selection import train_test_split\n",
        "from sklearn.metrics import accuracy_score, mean_absolute_error\n",
        "from collections import Counter\n",
        "import numpy as np\n",
        "import pandas as pd\n",
        "np.set_printoptions(precision=3)\n",
        "import jax\n",
        "import jax.numpy as jnp\n",
        "from tqdm import tqdm \n",
        "import pickle as pkl\n",
        "from typing import Tuple, Union\n",
        "import scipy"
      ],
      "execution_count": 2,
      "outputs": []
    },
    {
      "cell_type": "code",
      "source": [
        "import scanpy as sc\n",
        "\n",
        "from warnings import filterwarnings\n",
        "filterwarnings('ignore')\n",
        "\n",
        "sc.settings.verbosity = 3\n",
        "sc.logging.print_header()\n",
        "sc.settings.set_figure_params(dpi=80, facecolor='white')"
      ],
      "metadata": {
        "id": "QtyIQQxI9Fzl",
        "colab": {
          "base_uri": "https://localhost:8080/"
        },
        "outputId": "81ca68fc-1855-4d14-cf22-07e71093b703"
      },
      "execution_count": 3,
      "outputs": [
        {
          "output_type": "stream",
          "name": "stdout",
          "text": [
            "scanpy==1.9.1 anndata==0.8.0 umap==0.5.3 numpy==1.21.6 scipy==1.7.3 pandas==1.3.5 scikit-learn==1.0.2 statsmodels==0.12.2 pynndescent==0.5.8\n"
          ]
        }
      ]
    },
    {
      "cell_type": "code",
      "source": [
        "import seaborn as sns\n",
        "import matplotlib.pyplot as plt"
      ],
      "metadata": {
        "id": "vvE18Kn399xT"
      },
      "execution_count": 4,
      "outputs": []
    },
    {
      "cell_type": "markdown",
      "metadata": {
        "id": "gtLbd3WpbHBv"
      },
      "source": [
        "# 1.1 Datasets"
      ]
    },
    {
      "cell_type": "code",
      "source": [
        "!wget https://saturn-public-data.s3.us-east-2.amazonaws.com/cancer-immunotherapy-challenge/data/sc_training.h5ad"
      ],
      "metadata": {
        "colab": {
          "base_uri": "https://localhost:8080/"
        },
        "id": "qzOjuKi7-JZj",
        "outputId": "0ef480f2-1f3d-44bd-f436-26ea3e75037b"
      },
      "execution_count": 5,
      "outputs": [
        {
          "output_type": "stream",
          "name": "stdout",
          "text": [
            "--2023-01-12 13:17:23--  https://saturn-public-data.s3.us-east-2.amazonaws.com/cancer-immunotherapy-challenge/data/sc_training.h5ad\n",
            "Resolving saturn-public-data.s3.us-east-2.amazonaws.com (saturn-public-data.s3.us-east-2.amazonaws.com)... 3.5.132.185\n",
            "Connecting to saturn-public-data.s3.us-east-2.amazonaws.com (saturn-public-data.s3.us-east-2.amazonaws.com)|3.5.132.185|:443... connected.\n",
            "HTTP request sent, awaiting response... 200 OK\n",
            "Length: 1291266853 (1.2G) [binary/octet-stream]\n",
            "Saving to: ‘sc_training.h5ad’\n",
            "\n",
            "sc_training.h5ad    100%[===================>]   1.20G  22.0MB/s    in 29s     \n",
            "\n",
            "2023-01-12 13:17:52 (42.2 MB/s) - ‘sc_training.h5ad’ saved [1291266853/1291266853]\n",
            "\n"
          ]
        }
      ]
    },
    {
      "cell_type": "code",
      "source": [
        "!wget https://saturn-public-data.s3.us-east-2.amazonaws.com/cancer-immunotherapy-challenge/code/sc_training_visualization.ipynb"
      ],
      "metadata": {
        "id": "DjcbuGhX-4ZM",
        "colab": {
          "base_uri": "https://localhost:8080/"
        },
        "outputId": "7f08d738-6a82-4f77-a531-d78812c46329"
      },
      "execution_count": 6,
      "outputs": [
        {
          "output_type": "stream",
          "name": "stdout",
          "text": [
            "--2023-01-12 13:17:52--  https://saturn-public-data.s3.us-east-2.amazonaws.com/cancer-immunotherapy-challenge/code/sc_training_visualization.ipynb\n",
            "Resolving saturn-public-data.s3.us-east-2.amazonaws.com (saturn-public-data.s3.us-east-2.amazonaws.com)... 52.219.101.58\n",
            "Connecting to saturn-public-data.s3.us-east-2.amazonaws.com (saturn-public-data.s3.us-east-2.amazonaws.com)|52.219.101.58|:443... connected.\n",
            "HTTP request sent, awaiting response... 200 OK\n",
            "Length: 446576 (436K) [binary/octet-stream]\n",
            "Saving to: ‘sc_training_visualization.ipynb’\n",
            "\n",
            "sc_training_visuali 100%[===================>] 436.11K  --.-KB/s    in 0.1s    \n",
            "\n",
            "2023-01-12 13:17:53 (3.88 MB/s) - ‘sc_training_visualization.ipynb’ saved [446576/446576]\n",
            "\n"
          ]
        }
      ]
    },
    {
      "cell_type": "code",
      "source": [
        "!wget https://saturn-public-data.s3.us-east-2.amazonaws.com/cancer-immunotherapy-challenge/data/clone_information.csv"
      ],
      "metadata": {
        "id": "Zaz2cCfG-9OC",
        "colab": {
          "base_uri": "https://localhost:8080/"
        },
        "outputId": "fef9f53f-7c9b-4c5d-b3d8-f7af1d726bb2"
      },
      "execution_count": 7,
      "outputs": [
        {
          "output_type": "stream",
          "name": "stdout",
          "text": [
            "--2023-01-12 13:17:53--  https://saturn-public-data.s3.us-east-2.amazonaws.com/cancer-immunotherapy-challenge/data/clone_information.csv\n",
            "Resolving saturn-public-data.s3.us-east-2.amazonaws.com (saturn-public-data.s3.us-east-2.amazonaws.com)... 52.219.101.58\n",
            "Connecting to saturn-public-data.s3.us-east-2.amazonaws.com (saturn-public-data.s3.us-east-2.amazonaws.com)|52.219.101.58|:443... connected.\n",
            "HTTP request sent, awaiting response... 200 OK\n",
            "Length: 1542596 (1.5M) [text/csv]\n",
            "Saving to: ‘clone_information.csv’\n",
            "\n",
            "clone_information.c 100%[===================>]   1.47M  9.32MB/s    in 0.2s    \n",
            "\n",
            "2023-01-12 13:17:53 (9.32 MB/s) - ‘clone_information.csv’ saved [1542596/1542596]\n",
            "\n"
          ]
        }
      ]
    },
    {
      "cell_type": "code",
      "source": [
        "!wget https://saturn-public-data.s3.us-east-2.amazonaws.com/cancer-immunotherapy-challenge/data/guide_abundance.csv"
      ],
      "metadata": {
        "id": "CojnTfVv-_k8",
        "colab": {
          "base_uri": "https://localhost:8080/"
        },
        "outputId": "9978b16f-0652-4605-bb8b-2fc5df55a1e1"
      },
      "execution_count": 8,
      "outputs": [
        {
          "output_type": "stream",
          "name": "stdout",
          "text": [
            "--2023-01-12 13:17:53--  https://saturn-public-data.s3.us-east-2.amazonaws.com/cancer-immunotherapy-challenge/data/guide_abundance.csv\n",
            "Resolving saturn-public-data.s3.us-east-2.amazonaws.com (saturn-public-data.s3.us-east-2.amazonaws.com)... 52.219.101.58\n",
            "Connecting to saturn-public-data.s3.us-east-2.amazonaws.com (saturn-public-data.s3.us-east-2.amazonaws.com)|52.219.101.58|:443... connected.\n",
            "HTTP request sent, awaiting response... 200 OK\n",
            "Length: 4452 (4.3K) [text/csv]\n",
            "Saving to: ‘guide_abundance.csv’\n",
            "\n",
            "guide_abundance.csv 100%[===================>]   4.35K  --.-KB/s    in 0s      \n",
            "\n",
            "2023-01-12 13:17:53 (28.4 MB/s) - ‘guide_abundance.csv’ saved [4452/4452]\n",
            "\n"
          ]
        }
      ]
    },
    {
      "cell_type": "code",
      "source": [
        "!wget https://saturn-public-data.s3.us-east-2.amazonaws.com/cancer-immunotherapy-challenge/data/scRNA_ATAC.h5"
      ],
      "metadata": {
        "id": "OZ3scgpT_Cwr",
        "colab": {
          "base_uri": "https://localhost:8080/"
        },
        "outputId": "a5b0b747-1ff0-4400-a3b6-94daca27957f"
      },
      "execution_count": 9,
      "outputs": [
        {
          "output_type": "stream",
          "name": "stdout",
          "text": [
            "--2023-01-12 13:17:53--  https://saturn-public-data.s3.us-east-2.amazonaws.com/cancer-immunotherapy-challenge/data/scRNA_ATAC.h5\n",
            "Resolving saturn-public-data.s3.us-east-2.amazonaws.com (saturn-public-data.s3.us-east-2.amazonaws.com)... 52.219.101.58\n",
            "Connecting to saturn-public-data.s3.us-east-2.amazonaws.com (saturn-public-data.s3.us-east-2.amazonaws.com)|52.219.101.58|:443... connected.\n",
            "HTTP request sent, awaiting response... 200 OK\n",
            "Length: 87606852 (84M) [application/x-hdf5]\n",
            "Saving to: ‘scRNA_ATAC.h5’\n",
            "\n",
            "scRNA_ATAC.h5       100%[===================>]  83.55M  55.7MB/s    in 1.5s    \n",
            "\n",
            "2023-01-12 13:17:55 (55.7 MB/s) - ‘scRNA_ATAC.h5’ saved [87606852/87606852]\n",
            "\n"
          ]
        }
      ]
    },
    {
      "cell_type": "markdown",
      "source": [
        "For *read_h5ad()*, see [scanpy documentation](https://scanpy.readthedocs.io/en/stable/generated/scanpy.read_h5ad.html)"
      ],
      "metadata": {
        "id": "xnHHyZUeoII9"
      }
    },
    {
      "cell_type": "code",
      "source": [
        "adata = sc.read_h5ad('./sc_training.h5ad')\n",
        "adata"
      ],
      "metadata": {
        "id": "5jxmK85X-VUu",
        "colab": {
          "base_uri": "https://localhost:8080/"
        },
        "outputId": "9e71bca1-ecf9-4456-bf74-94f4c3596bba"
      },
      "execution_count": 10,
      "outputs": [
        {
          "output_type": "execute_result",
          "data": {
            "text/plain": [
              "AnnData object with n_obs × n_vars = 28697 × 15077\n",
              "    obs: 'gRNA_maxID', 'state', 'condition', 'lane'\n",
              "    layers: 'rawcounts'"
            ]
          },
          "metadata": {},
          "execution_count": 10
        }
      ]
    },
    {
      "cell_type": "markdown",
      "source": [
        "For *adata* object type, see [AnnData documentation](https://anndata.readthedocs.io/en/stable/generated/anndata.AnnData.html#anndata.AnnData)"
      ],
      "metadata": {
        "id": "mHok28d9nbei"
      }
    },
    {
      "cell_type": "code",
      "source": [
        "adata.obs"
      ],
      "metadata": {
        "id": "9XbVrdc7E-KR",
        "colab": {
          "base_uri": "https://localhost:8080/",
          "height": 424
        },
        "outputId": "50cee825-1bf9-4bf2-e1d0-d6e19c3b9cf6"
      },
      "execution_count": 11,
      "outputs": [
        {
          "output_type": "execute_result",
          "data": {
            "text/plain": [
              "                                   gRNA_maxID               state  \\\n",
              "053l1_AAACCTGAGATGTCGG-1  ONE-NON-GENE-SITE-7  terminal exhausted   \n",
              "053l1_AAACCTGAGCAACGGT-1               Tox2-3            effector   \n",
              "053l1_AAACCTGAGTACGACG-1               Tpt1-2            effector   \n",
              "053l1_AAACCTGAGTCGTTTG-1               Tox2-3  terminal exhausted   \n",
              "053l1_AAACCTGAGTGAAGAG-1               Tcf7-2            effector   \n",
              "...                                       ...                 ...   \n",
              "053l4_TTTGTCATCAGGTTCA-1               Tox2-3               other   \n",
              "053l4_TTTGTCATCAGTGTTG-1               Dvl2-3             cycling   \n",
              "053l4_TTTGTCATCCTCGCAT-1               Zeb2-2             cycling   \n",
              "053l4_TTTGTCATCTTCAACT-1               Sox4-3             cycling   \n",
              "053l4_TTTGTCATCTTTCCTC-1               Dvl2-3             cycling   \n",
              "\n",
              "                            condition   lane  \n",
              "053l1_AAACCTGAGATGTCGG-1  Unperturbed  lane1  \n",
              "053l1_AAACCTGAGCAACGGT-1         Tox2  lane1  \n",
              "053l1_AAACCTGAGTACGACG-1         Tpt1  lane1  \n",
              "053l1_AAACCTGAGTCGTTTG-1         Tox2  lane1  \n",
              "053l1_AAACCTGAGTGAAGAG-1         Tcf7  lane1  \n",
              "...                               ...    ...  \n",
              "053l4_TTTGTCATCAGGTTCA-1         Tox2  lane4  \n",
              "053l4_TTTGTCATCAGTGTTG-1         Dvl2  lane4  \n",
              "053l4_TTTGTCATCCTCGCAT-1         Zeb2  lane4  \n",
              "053l4_TTTGTCATCTTCAACT-1         Sox4  lane4  \n",
              "053l4_TTTGTCATCTTTCCTC-1         Dvl2  lane4  \n",
              "\n",
              "[28697 rows x 4 columns]"
            ],
            "text/html": [
              "\n",
              "  <div id=\"df-bed4492a-52b0-449a-a76b-6751e6289ba6\">\n",
              "    <div class=\"colab-df-container\">\n",
              "      <div>\n",
              "<style scoped>\n",
              "    .dataframe tbody tr th:only-of-type {\n",
              "        vertical-align: middle;\n",
              "    }\n",
              "\n",
              "    .dataframe tbody tr th {\n",
              "        vertical-align: top;\n",
              "    }\n",
              "\n",
              "    .dataframe thead th {\n",
              "        text-align: right;\n",
              "    }\n",
              "</style>\n",
              "<table border=\"1\" class=\"dataframe\">\n",
              "  <thead>\n",
              "    <tr style=\"text-align: right;\">\n",
              "      <th></th>\n",
              "      <th>gRNA_maxID</th>\n",
              "      <th>state</th>\n",
              "      <th>condition</th>\n",
              "      <th>lane</th>\n",
              "    </tr>\n",
              "  </thead>\n",
              "  <tbody>\n",
              "    <tr>\n",
              "      <th>053l1_AAACCTGAGATGTCGG-1</th>\n",
              "      <td>ONE-NON-GENE-SITE-7</td>\n",
              "      <td>terminal exhausted</td>\n",
              "      <td>Unperturbed</td>\n",
              "      <td>lane1</td>\n",
              "    </tr>\n",
              "    <tr>\n",
              "      <th>053l1_AAACCTGAGCAACGGT-1</th>\n",
              "      <td>Tox2-3</td>\n",
              "      <td>effector</td>\n",
              "      <td>Tox2</td>\n",
              "      <td>lane1</td>\n",
              "    </tr>\n",
              "    <tr>\n",
              "      <th>053l1_AAACCTGAGTACGACG-1</th>\n",
              "      <td>Tpt1-2</td>\n",
              "      <td>effector</td>\n",
              "      <td>Tpt1</td>\n",
              "      <td>lane1</td>\n",
              "    </tr>\n",
              "    <tr>\n",
              "      <th>053l1_AAACCTGAGTCGTTTG-1</th>\n",
              "      <td>Tox2-3</td>\n",
              "      <td>terminal exhausted</td>\n",
              "      <td>Tox2</td>\n",
              "      <td>lane1</td>\n",
              "    </tr>\n",
              "    <tr>\n",
              "      <th>053l1_AAACCTGAGTGAAGAG-1</th>\n",
              "      <td>Tcf7-2</td>\n",
              "      <td>effector</td>\n",
              "      <td>Tcf7</td>\n",
              "      <td>lane1</td>\n",
              "    </tr>\n",
              "    <tr>\n",
              "      <th>...</th>\n",
              "      <td>...</td>\n",
              "      <td>...</td>\n",
              "      <td>...</td>\n",
              "      <td>...</td>\n",
              "    </tr>\n",
              "    <tr>\n",
              "      <th>053l4_TTTGTCATCAGGTTCA-1</th>\n",
              "      <td>Tox2-3</td>\n",
              "      <td>other</td>\n",
              "      <td>Tox2</td>\n",
              "      <td>lane4</td>\n",
              "    </tr>\n",
              "    <tr>\n",
              "      <th>053l4_TTTGTCATCAGTGTTG-1</th>\n",
              "      <td>Dvl2-3</td>\n",
              "      <td>cycling</td>\n",
              "      <td>Dvl2</td>\n",
              "      <td>lane4</td>\n",
              "    </tr>\n",
              "    <tr>\n",
              "      <th>053l4_TTTGTCATCCTCGCAT-1</th>\n",
              "      <td>Zeb2-2</td>\n",
              "      <td>cycling</td>\n",
              "      <td>Zeb2</td>\n",
              "      <td>lane4</td>\n",
              "    </tr>\n",
              "    <tr>\n",
              "      <th>053l4_TTTGTCATCTTCAACT-1</th>\n",
              "      <td>Sox4-3</td>\n",
              "      <td>cycling</td>\n",
              "      <td>Sox4</td>\n",
              "      <td>lane4</td>\n",
              "    </tr>\n",
              "    <tr>\n",
              "      <th>053l4_TTTGTCATCTTTCCTC-1</th>\n",
              "      <td>Dvl2-3</td>\n",
              "      <td>cycling</td>\n",
              "      <td>Dvl2</td>\n",
              "      <td>lane4</td>\n",
              "    </tr>\n",
              "  </tbody>\n",
              "</table>\n",
              "<p>28697 rows × 4 columns</p>\n",
              "</div>\n",
              "      <button class=\"colab-df-convert\" onclick=\"convertToInteractive('df-bed4492a-52b0-449a-a76b-6751e6289ba6')\"\n",
              "              title=\"Convert this dataframe to an interactive table.\"\n",
              "              style=\"display:none;\">\n",
              "        \n",
              "  <svg xmlns=\"http://www.w3.org/2000/svg\" height=\"24px\"viewBox=\"0 0 24 24\"\n",
              "       width=\"24px\">\n",
              "    <path d=\"M0 0h24v24H0V0z\" fill=\"none\"/>\n",
              "    <path d=\"M18.56 5.44l.94 2.06.94-2.06 2.06-.94-2.06-.94-.94-2.06-.94 2.06-2.06.94zm-11 1L8.5 8.5l.94-2.06 2.06-.94-2.06-.94L8.5 2.5l-.94 2.06-2.06.94zm10 10l.94 2.06.94-2.06 2.06-.94-2.06-.94-.94-2.06-.94 2.06-2.06.94z\"/><path d=\"M17.41 7.96l-1.37-1.37c-.4-.4-.92-.59-1.43-.59-.52 0-1.04.2-1.43.59L10.3 9.45l-7.72 7.72c-.78.78-.78 2.05 0 2.83L4 21.41c.39.39.9.59 1.41.59.51 0 1.02-.2 1.41-.59l7.78-7.78 2.81-2.81c.8-.78.8-2.07 0-2.86zM5.41 20L4 18.59l7.72-7.72 1.47 1.35L5.41 20z\"/>\n",
              "  </svg>\n",
              "      </button>\n",
              "      \n",
              "  <style>\n",
              "    .colab-df-container {\n",
              "      display:flex;\n",
              "      flex-wrap:wrap;\n",
              "      gap: 12px;\n",
              "    }\n",
              "\n",
              "    .colab-df-convert {\n",
              "      background-color: #E8F0FE;\n",
              "      border: none;\n",
              "      border-radius: 50%;\n",
              "      cursor: pointer;\n",
              "      display: none;\n",
              "      fill: #1967D2;\n",
              "      height: 32px;\n",
              "      padding: 0 0 0 0;\n",
              "      width: 32px;\n",
              "    }\n",
              "\n",
              "    .colab-df-convert:hover {\n",
              "      background-color: #E2EBFA;\n",
              "      box-shadow: 0px 1px 2px rgba(60, 64, 67, 0.3), 0px 1px 3px 1px rgba(60, 64, 67, 0.15);\n",
              "      fill: #174EA6;\n",
              "    }\n",
              "\n",
              "    [theme=dark] .colab-df-convert {\n",
              "      background-color: #3B4455;\n",
              "      fill: #D2E3FC;\n",
              "    }\n",
              "\n",
              "    [theme=dark] .colab-df-convert:hover {\n",
              "      background-color: #434B5C;\n",
              "      box-shadow: 0px 1px 3px 1px rgba(0, 0, 0, 0.15);\n",
              "      filter: drop-shadow(0px 1px 2px rgba(0, 0, 0, 0.3));\n",
              "      fill: #FFFFFF;\n",
              "    }\n",
              "  </style>\n",
              "\n",
              "      <script>\n",
              "        const buttonEl =\n",
              "          document.querySelector('#df-bed4492a-52b0-449a-a76b-6751e6289ba6 button.colab-df-convert');\n",
              "        buttonEl.style.display =\n",
              "          google.colab.kernel.accessAllowed ? 'block' : 'none';\n",
              "\n",
              "        async function convertToInteractive(key) {\n",
              "          const element = document.querySelector('#df-bed4492a-52b0-449a-a76b-6751e6289ba6');\n",
              "          const dataTable =\n",
              "            await google.colab.kernel.invokeFunction('convertToInteractive',\n",
              "                                                     [key], {});\n",
              "          if (!dataTable) return;\n",
              "\n",
              "          const docLinkHtml = 'Like what you see? Visit the ' +\n",
              "            '<a target=\"_blank\" href=https://colab.research.google.com/notebooks/data_table.ipynb>data table notebook</a>'\n",
              "            + ' to learn more about interactive tables.';\n",
              "          element.innerHTML = '';\n",
              "          dataTable['output_type'] = 'display_data';\n",
              "          await google.colab.output.renderOutput(dataTable, element);\n",
              "          const docLink = document.createElement('div');\n",
              "          docLink.innerHTML = docLinkHtml;\n",
              "          element.appendChild(docLink);\n",
              "        }\n",
              "      </script>\n",
              "    </div>\n",
              "  </div>\n",
              "  "
            ]
          },
          "metadata": {},
          "execution_count": 11
        }
      ]
    },
    {
      "cell_type": "markdown",
      "source": [
        "# 1.1 Preprocess data"
      ],
      "metadata": {
        "id": "mVK2u2N2ZZ_S"
      }
    },
    {
      "cell_type": "code",
      "source": [
        "expression_data = adata.X\n",
        "expression_data_sub = expression_data[:10, :10]\n",
        "expression_data_sub.toarray()"
      ],
      "metadata": {
        "id": "CZca6tq7ZhFe",
        "colab": {
          "base_uri": "https://localhost:8080/"
        },
        "outputId": "7e08cb1c-046a-4e00-8c7e-e4c11d67cc50"
      },
      "execution_count": 12,
      "outputs": [
        {
          "output_type": "execute_result",
          "data": {
            "text/plain": [
              "array([[0.512, 0.   , 0.   , 0.   , 0.   , 0.   , 0.   , 0.   , 0.   ,\n",
              "        0.   ],\n",
              "       [0.484, 0.484, 0.809, 0.   , 0.   , 0.   , 0.   , 0.   , 0.484,\n",
              "        0.   ],\n",
              "       [0.   , 0.   , 0.   , 0.   , 0.   , 0.   , 0.694, 0.   , 0.   ,\n",
              "        0.   ],\n",
              "       [0.   , 0.   , 0.   , 0.   , 0.   , 0.   , 0.   , 0.   , 0.   ,\n",
              "        0.   ],\n",
              "       [0.   , 0.   , 0.   , 0.   , 0.   , 0.   , 0.   , 0.   , 0.   ,\n",
              "        0.   ],\n",
              "       [0.   , 1.089, 0.686, 0.686, 0.   , 0.   , 0.   , 0.   , 0.   ,\n",
              "        0.   ],\n",
              "       [0.   , 0.193, 0.493, 0.   , 0.   , 0.   , 0.193, 0.   , 0.724,\n",
              "        0.   ],\n",
              "       [0.   , 0.   , 0.   , 0.   , 0.   , 0.   , 0.   , 0.   , 0.   ,\n",
              "        0.   ],\n",
              "       [0.292, 0.292, 0.292, 0.292, 0.292, 0.   , 0.   , 0.   , 0.292,\n",
              "        0.   ],\n",
              "       [0.412, 0.704, 0.   , 0.   , 0.   , 0.   , 0.   , 0.   , 0.   ,\n",
              "        0.   ]], dtype=float32)"
            ]
          },
          "metadata": {},
          "execution_count": 12
        }
      ]
    },
    {
      "cell_type": "markdown",
      "source": [
        "Each row in this matrix represents a cell type (28,697 in total) and the column represents 15,077 genes. The elements indicate the expression levels. "
      ],
      "metadata": {
        "id": "cn0usAQFglbE"
      }
    },
    {
      "cell_type": "code",
      "source": [
        "obs = adata.obs\n",
        "genes = adata.var.index.tolist()\n",
        "expression_data_csc = expression_data.tocsc()\n",
        "\n",
        "test_genes = ['Ets1', 'Fosb', 'Mafk', 'Stat3']\n",
        "validation_genes = ['Aqr', 'Bach2', 'Bhlhe40']\n",
        "\n",
        "test_indices = [genes.index(x) for x in test_genes if x in genes]\n",
        "validation_indices = [genes.index(x) for x in validation_genes if x in genes]\n",
        "\n",
        "X_test = expression_data_csc[:, test_indices]\n",
        "X_test = X_test.tocsr()\n",
        "X_val = expression_data_csc[:, validation_indices]\n",
        "X_val = X_val.tocsr()\n",
        "\n",
        "all_indices = jnp.arange(expression_data_csc.shape[1])\n",
        "rm_indices = test_indices + validation_indices\n",
        "rm_indices.sort()\n",
        "keep_indices = jnp.setdiff1d(jnp.array(all_indices), jnp.array(rm_indices))\n",
        "\n",
        "expression_data_csc = expression_data_csc[:, keep_indices]\n",
        "X_train = expression_data_csc.tocsr()\n",
        "\n",
        "obs_cond_idx = obs.set_index('condition')\n",
        "\n",
        "exclude_list = ['Unperturbed', 'Fzd1', 'P2rx7']\n",
        "dropped_obs = obs_cond_idx.drop(index=exclude_list)\n",
        "\n",
        "removed_indices = obs_cond_idx.index.isin(exclude_list)\n",
        "\n",
        "X_train, X_test, X_val = X_train[~removed_indices], X_test[~removed_indices],\\\n",
        "                          X_val[~removed_indices]\n",
        "X_train, X_test, X_val = X_train.toarray(), X_test.toarray(), X_val.toarray()"
      ],
      "metadata": {
        "id": "SAFV0Dm4oJAN",
        "colab": {
          "base_uri": "https://localhost:8080/"
        },
        "outputId": "6b0b4321-d0eb-4ce3-9532-a6ebaa295ff9"
      },
      "execution_count": 13,
      "outputs": [
        {
          "output_type": "stream",
          "name": "stderr",
          "text": [
            "WARNING:jax._src.lib.xla_bridge:No GPU/TPU found, falling back to CPU. (Set TF_CPP_MIN_LOG_LEVEL=0 and rerun for more info.)\n"
          ]
        }
      ]
    },
    {
      "cell_type": "markdown",
      "source": [
        "Now we have our train, test and validation samples. \n",
        "\n"
      ],
      "metadata": {
        "id": "L852YbKTwPPh"
      }
    },
    {
      "cell_type": "code",
      "source": [
        "states = ['progenitor', 'effector', 'terminal exhausted', 'cycling', 'other']\n",
        "ground_truth = {}\n",
        "\n",
        "for gene in genes:\n",
        "  state_frequency = {state: 0 for state in states}\n",
        "  rows = obs[obs['condition'] == gene]\n",
        "\n",
        "  if not rows.empty:  \n",
        "    for index, row in rows.iterrows():\n",
        "        state = row['state']\n",
        "        if state not in states:\n",
        "          state_frequency['other'] += 1\n",
        "        else:\n",
        "          state_frequency[state] += 1\n",
        "    \n",
        "    total_count = sum(state_frequency.values())\n",
        "    for state, count in state_frequency.items():\n",
        "        state_frequency[state] = count / total_count\n",
        "    \n",
        "    ground_truth[gene] = list(state_frequency.values())"
      ],
      "metadata": {
        "id": "dXjs8ZKw0cDf"
      },
      "execution_count": 14,
      "outputs": []
    },
    {
      "cell_type": "markdown",
      "source": [
        "Now we have a dictionary that stores the ground truth, i.e. the cell state frequencies, for each gene. Note that each list in this dictionary sums to 1, as required. We have 64 ground truth vectors because of the 66 knockout experiments that are used for training purposes, 2 did not pass quality control (see: [challenge 1 document](https://drive.google.com/file/d/1rR5oIhETmyVu6Uo5BsWjIokdBZctKzCE/view)). \n",
        "\n",
        "Next up, we'll have to generate our y_data and filter the unperturbed, and genes that didn't pass the quality control from our training and testing data."
      ],
      "metadata": {
        "id": "XCtmkBzFvxty"
      }
    },
    {
      "cell_type": "code",
      "source": [
        "y_data_dict = ground_truth.copy()\n",
        "y_data = pd.DataFrame.from_dict(y_data_dict, orient='index', \n",
        "                                         columns=['progenitor', 'effector', \n",
        "                                         'terminal exhausted', 'cycling', \n",
        "                                         'other'])\n",
        "y_data_expand = pd.DataFrame(columns=y_data.columns, index=dropped_obs.index)\n",
        "idx = 0\n",
        "for condition, row in dropped_obs.iterrows():\n",
        "    gene = condition\n",
        "    state_data = y_data.loc[gene]\n",
        "    y_data_expand.iloc[idx] = state_data\n",
        "    idx += 1\n",
        "\n",
        "y_train = y_data_expand\n",
        "y_data"
      ],
      "metadata": {
        "colab": {
          "base_uri": "https://localhost:8080/",
          "height": 424
        },
        "id": "WWsKC6BBJG6q",
        "outputId": "087f5880-34b5-43a4-ec64-a224be107bae"
      },
      "execution_count": 15,
      "outputs": [
        {
          "output_type": "execute_result",
          "data": {
            "text/plain": [
              "       progenitor  effector  terminal exhausted   cycling     other\n",
              "Stat4    0.300000  0.300000            0.200000  0.166667  0.033333\n",
              "Sp140    0.515152  0.121212            0.121212  0.242424  0.000000\n",
              "Sp100    0.024476  0.288462            0.281469  0.391608  0.013986\n",
              "Zeb2     0.017483  0.115385            0.282051  0.439394  0.145688\n",
              "Nr4a2    0.197059  0.079412            0.300000  0.410294  0.013235\n",
              "...           ...       ...                 ...       ...       ...\n",
              "Crem     0.034166  0.425756            0.214192  0.308804  0.017083\n",
              "Egr1     0.274678  0.278970            0.231760  0.214592  0.000000\n",
              "Nr3c1    0.050667  0.090667            0.312000  0.533333  0.013333\n",
              "Rela     0.228261  0.293478            0.141304  0.282609  0.054348\n",
              "Fzd3     0.194245  0.201439            0.223022  0.359712  0.021583\n",
              "\n",
              "[64 rows x 5 columns]"
            ],
            "text/html": [
              "\n",
              "  <div id=\"df-9a50d00b-138a-4478-964a-e0154d6d9ba1\">\n",
              "    <div class=\"colab-df-container\">\n",
              "      <div>\n",
              "<style scoped>\n",
              "    .dataframe tbody tr th:only-of-type {\n",
              "        vertical-align: middle;\n",
              "    }\n",
              "\n",
              "    .dataframe tbody tr th {\n",
              "        vertical-align: top;\n",
              "    }\n",
              "\n",
              "    .dataframe thead th {\n",
              "        text-align: right;\n",
              "    }\n",
              "</style>\n",
              "<table border=\"1\" class=\"dataframe\">\n",
              "  <thead>\n",
              "    <tr style=\"text-align: right;\">\n",
              "      <th></th>\n",
              "      <th>progenitor</th>\n",
              "      <th>effector</th>\n",
              "      <th>terminal exhausted</th>\n",
              "      <th>cycling</th>\n",
              "      <th>other</th>\n",
              "    </tr>\n",
              "  </thead>\n",
              "  <tbody>\n",
              "    <tr>\n",
              "      <th>Stat4</th>\n",
              "      <td>0.300000</td>\n",
              "      <td>0.300000</td>\n",
              "      <td>0.200000</td>\n",
              "      <td>0.166667</td>\n",
              "      <td>0.033333</td>\n",
              "    </tr>\n",
              "    <tr>\n",
              "      <th>Sp140</th>\n",
              "      <td>0.515152</td>\n",
              "      <td>0.121212</td>\n",
              "      <td>0.121212</td>\n",
              "      <td>0.242424</td>\n",
              "      <td>0.000000</td>\n",
              "    </tr>\n",
              "    <tr>\n",
              "      <th>Sp100</th>\n",
              "      <td>0.024476</td>\n",
              "      <td>0.288462</td>\n",
              "      <td>0.281469</td>\n",
              "      <td>0.391608</td>\n",
              "      <td>0.013986</td>\n",
              "    </tr>\n",
              "    <tr>\n",
              "      <th>Zeb2</th>\n",
              "      <td>0.017483</td>\n",
              "      <td>0.115385</td>\n",
              "      <td>0.282051</td>\n",
              "      <td>0.439394</td>\n",
              "      <td>0.145688</td>\n",
              "    </tr>\n",
              "    <tr>\n",
              "      <th>Nr4a2</th>\n",
              "      <td>0.197059</td>\n",
              "      <td>0.079412</td>\n",
              "      <td>0.300000</td>\n",
              "      <td>0.410294</td>\n",
              "      <td>0.013235</td>\n",
              "    </tr>\n",
              "    <tr>\n",
              "      <th>...</th>\n",
              "      <td>...</td>\n",
              "      <td>...</td>\n",
              "      <td>...</td>\n",
              "      <td>...</td>\n",
              "      <td>...</td>\n",
              "    </tr>\n",
              "    <tr>\n",
              "      <th>Crem</th>\n",
              "      <td>0.034166</td>\n",
              "      <td>0.425756</td>\n",
              "      <td>0.214192</td>\n",
              "      <td>0.308804</td>\n",
              "      <td>0.017083</td>\n",
              "    </tr>\n",
              "    <tr>\n",
              "      <th>Egr1</th>\n",
              "      <td>0.274678</td>\n",
              "      <td>0.278970</td>\n",
              "      <td>0.231760</td>\n",
              "      <td>0.214592</td>\n",
              "      <td>0.000000</td>\n",
              "    </tr>\n",
              "    <tr>\n",
              "      <th>Nr3c1</th>\n",
              "      <td>0.050667</td>\n",
              "      <td>0.090667</td>\n",
              "      <td>0.312000</td>\n",
              "      <td>0.533333</td>\n",
              "      <td>0.013333</td>\n",
              "    </tr>\n",
              "    <tr>\n",
              "      <th>Rela</th>\n",
              "      <td>0.228261</td>\n",
              "      <td>0.293478</td>\n",
              "      <td>0.141304</td>\n",
              "      <td>0.282609</td>\n",
              "      <td>0.054348</td>\n",
              "    </tr>\n",
              "    <tr>\n",
              "      <th>Fzd3</th>\n",
              "      <td>0.194245</td>\n",
              "      <td>0.201439</td>\n",
              "      <td>0.223022</td>\n",
              "      <td>0.359712</td>\n",
              "      <td>0.021583</td>\n",
              "    </tr>\n",
              "  </tbody>\n",
              "</table>\n",
              "<p>64 rows × 5 columns</p>\n",
              "</div>\n",
              "      <button class=\"colab-df-convert\" onclick=\"convertToInteractive('df-9a50d00b-138a-4478-964a-e0154d6d9ba1')\"\n",
              "              title=\"Convert this dataframe to an interactive table.\"\n",
              "              style=\"display:none;\">\n",
              "        \n",
              "  <svg xmlns=\"http://www.w3.org/2000/svg\" height=\"24px\"viewBox=\"0 0 24 24\"\n",
              "       width=\"24px\">\n",
              "    <path d=\"M0 0h24v24H0V0z\" fill=\"none\"/>\n",
              "    <path d=\"M18.56 5.44l.94 2.06.94-2.06 2.06-.94-2.06-.94-.94-2.06-.94 2.06-2.06.94zm-11 1L8.5 8.5l.94-2.06 2.06-.94-2.06-.94L8.5 2.5l-.94 2.06-2.06.94zm10 10l.94 2.06.94-2.06 2.06-.94-2.06-.94-.94-2.06-.94 2.06-2.06.94z\"/><path d=\"M17.41 7.96l-1.37-1.37c-.4-.4-.92-.59-1.43-.59-.52 0-1.04.2-1.43.59L10.3 9.45l-7.72 7.72c-.78.78-.78 2.05 0 2.83L4 21.41c.39.39.9.59 1.41.59.51 0 1.02-.2 1.41-.59l7.78-7.78 2.81-2.81c.8-.78.8-2.07 0-2.86zM5.41 20L4 18.59l7.72-7.72 1.47 1.35L5.41 20z\"/>\n",
              "  </svg>\n",
              "      </button>\n",
              "      \n",
              "  <style>\n",
              "    .colab-df-container {\n",
              "      display:flex;\n",
              "      flex-wrap:wrap;\n",
              "      gap: 12px;\n",
              "    }\n",
              "\n",
              "    .colab-df-convert {\n",
              "      background-color: #E8F0FE;\n",
              "      border: none;\n",
              "      border-radius: 50%;\n",
              "      cursor: pointer;\n",
              "      display: none;\n",
              "      fill: #1967D2;\n",
              "      height: 32px;\n",
              "      padding: 0 0 0 0;\n",
              "      width: 32px;\n",
              "    }\n",
              "\n",
              "    .colab-df-convert:hover {\n",
              "      background-color: #E2EBFA;\n",
              "      box-shadow: 0px 1px 2px rgba(60, 64, 67, 0.3), 0px 1px 3px 1px rgba(60, 64, 67, 0.15);\n",
              "      fill: #174EA6;\n",
              "    }\n",
              "\n",
              "    [theme=dark] .colab-df-convert {\n",
              "      background-color: #3B4455;\n",
              "      fill: #D2E3FC;\n",
              "    }\n",
              "\n",
              "    [theme=dark] .colab-df-convert:hover {\n",
              "      background-color: #434B5C;\n",
              "      box-shadow: 0px 1px 3px 1px rgba(0, 0, 0, 0.15);\n",
              "      filter: drop-shadow(0px 1px 2px rgba(0, 0, 0, 0.3));\n",
              "      fill: #FFFFFF;\n",
              "    }\n",
              "  </style>\n",
              "\n",
              "      <script>\n",
              "        const buttonEl =\n",
              "          document.querySelector('#df-9a50d00b-138a-4478-964a-e0154d6d9ba1 button.colab-df-convert');\n",
              "        buttonEl.style.display =\n",
              "          google.colab.kernel.accessAllowed ? 'block' : 'none';\n",
              "\n",
              "        async function convertToInteractive(key) {\n",
              "          const element = document.querySelector('#df-9a50d00b-138a-4478-964a-e0154d6d9ba1');\n",
              "          const dataTable =\n",
              "            await google.colab.kernel.invokeFunction('convertToInteractive',\n",
              "                                                     [key], {});\n",
              "          if (!dataTable) return;\n",
              "\n",
              "          const docLinkHtml = 'Like what you see? Visit the ' +\n",
              "            '<a target=\"_blank\" href=https://colab.research.google.com/notebooks/data_table.ipynb>data table notebook</a>'\n",
              "            + ' to learn more about interactive tables.';\n",
              "          element.innerHTML = '';\n",
              "          dataTable['output_type'] = 'display_data';\n",
              "          await google.colab.output.renderOutput(dataTable, element);\n",
              "          const docLink = document.createElement('div');\n",
              "          docLink.innerHTML = docLinkHtml;\n",
              "          element.appendChild(docLink);\n",
              "        }\n",
              "      </script>\n",
              "    </div>\n",
              "  </div>\n",
              "  "
            ]
          },
          "metadata": {},
          "execution_count": 15
        }
      ]
    },
    {
      "cell_type": "markdown",
      "source": [
        "Note that we do not have y_test and y_val, as these will be used to evaluate the performance of our model in the competition. "
      ],
      "metadata": {
        "id": "2pmR5R7ELPF-"
      }
    },
    {
      "cell_type": "markdown",
      "metadata": {
        "id": "1OXSiEfxbHBz"
      },
      "source": [
        "# 2. Random Forest"
      ]
    },
    {
      "cell_type": "code",
      "metadata": {
        "id": "x3B3UlaYbHBz"
      },
      "source": [
        "class RandomForest:\n",
        "    \n",
        "    def __init__(self, n_estimators:int=100, subsample:float=0.1, regression:bool=True, **kwargs)->None:\n",
        "        self.n_estimators = n_estimators\n",
        "        self.estimators = []\n",
        "        self.subsample = subsample\n",
        "      \n",
        "        for _ in range(self.n_estimators):\n",
        "            if regression:\n",
        "                self.estimators.append(DecisionTreeRegressor(**kwargs))\n",
        "            else:\n",
        "                self.estimators.append(DecisionTreeClassifier(**kwargs))\n",
        "            \n",
        "               \n",
        "    def bootstrap_sample(self, X:np.array, y:np.array)->Tuple[np.array,...]:\n",
        "        n_samples = X.shape[0]\n",
        "        idxs = np.random.choice(n_samples, size=int(self.subsample*n_samples), replace=True)\n",
        "        return X[idxs], y[idxs]\n",
        "    \n",
        "    def fit(self, X:np.array, y:np.array)->None:\n",
        "        for estimator in tqdm(self.estimators):\n",
        "            X_sample, y_sample = self.bootstrap_sample(X, y)\n",
        "            estimator.fit(X_sample, y_sample)\n",
        "\n",
        "        \n",
        "    def predict(self, X:np.array)->np.array:\n",
        "        preds = np.array([estimator.predict(X) for estimator in self.estimators])\n",
        "        preds = np.swapaxes(preds, 0, 1)\n",
        "        #return np.array([self._most_common_pred(pred) for pred in preds])\n",
        "        return np.apply_along_axis(lambda x: np.bincount(x).argmax(), 1, preds)        \n",
        "        \n",
        "    def _most_common_pred(self, y:np.array)->Union[float, int]:\n",
        "        #counts = np.bincount(y.ravel())\n",
        "        #return np.argmax(counts)\n",
        "\n",
        "        return np.mode(y, axis=None)[0][0]\n",
        "        #return scipy.stats.mode(y, axis=None)[0][0]\n",
        "        #return Counter(y.tolist()).most_common(1)[0][0]\n",
        "        #return Counter(y).most_common(1)[0][0]\n",
        "        #return scipy.stats.mode(y, axis=None)[0][0]"
      ],
      "execution_count": 49,
      "outputs": []
    },
    {
      "cell_type": "markdown",
      "metadata": {
        "id": "l18u-2unbHB2"
      },
      "source": [
        "## 3.1. Random Forest Classifier"
      ]
    },
    {
      "cell_type": "code",
      "metadata": {
        "id": "Njpt40H8bHB2"
      },
      "source": [
        "rfc = RandomForest(regression=False)"
      ],
      "execution_count": 50,
      "outputs": []
    },
    {
      "cell_type": "code",
      "source": [
        "X = X_train\n",
        "X.shape"
      ],
      "metadata": {
        "colab": {
          "base_uri": "https://localhost:8080/"
        },
        "id": "O-i40N8eOKj0",
        "outputId": "3e4e00aa-85b2-4ad7-d80f-d79f91b8a30b"
      },
      "execution_count": 18,
      "outputs": [
        {
          "output_type": "execute_result",
          "data": {
            "text/plain": [
              "(23411, 15070)"
            ]
          },
          "metadata": {},
          "execution_count": 18
        }
      ]
    },
    {
      "cell_type": "code",
      "source": [
        "y_train = np.array(y_train)\n",
        "y_train = y_train.astype(np.int)\n",
        "y = y_train\n",
        "\n",
        "y.shape"
      ],
      "metadata": {
        "id": "qTDpaR04yB1i",
        "colab": {
          "base_uri": "https://localhost:8080/"
        },
        "outputId": "1db8fe69-b76b-4441-f7c6-5271410cb5d9"
      },
      "execution_count": 19,
      "outputs": [
        {
          "output_type": "execute_result",
          "data": {
            "text/plain": [
              "(23411, 5)"
            ]
          },
          "metadata": {},
          "execution_count": 19
        }
      ]
    },
    {
      "cell_type": "code",
      "source": [
        "X_train, X_test, y_train, y_test = train_test_split(X, y, test_size=0.4, \n",
        "                                                    random_state=42)"
      ],
      "metadata": {
        "id": "U7U-snDhA4Ls"
      },
      "execution_count": 20,
      "outputs": []
    },
    {
      "cell_type": "code",
      "metadata": {
        "id": "o6ayjTB5bHB4",
        "colab": {
          "base_uri": "https://localhost:8080/"
        },
        "outputId": "35b040b3-3393-4616-a698-5a44c9c7d8df"
      },
      "source": [
        "rfc.fit(X_train, y_train)"
      ],
      "execution_count": 51,
      "outputs": [
        {
          "output_type": "stream",
          "name": "stderr",
          "text": [
            "100%|██████████| 100/100 [03:49<00:00,  2.29s/it]\n"
          ]
        }
      ]
    },
    {
      "cell_type": "code",
      "metadata": {
        "id": "jA3fPa2fbHB5",
        "colab": {
          "base_uri": "https://localhost:8080/"
        },
        "outputId": "9e5c08c2-90bb-49e4-8614-b82fa55917d2"
      },
      "source": [
        "y_pred = rfc.predict(X_train)\n",
        "y_pred"
      ],
      "execution_count": 52,
      "outputs": [
        {
          "output_type": "execute_result",
          "data": {
            "text/plain": [
              "array([[0, 0, 0, 0, 0],\n",
              "       [0, 0, 0, 0, 0],\n",
              "       [0, 0, 0, 0, 0],\n",
              "       ...,\n",
              "       [0, 0, 0, 0, 0],\n",
              "       [0, 0, 0, 0, 0],\n",
              "       [0, 0, 0, 0, 0]])"
            ]
          },
          "metadata": {},
          "execution_count": 52
        }
      ]
    },
    {
      "cell_type": "code",
      "source": [
        "y_pred.shape"
      ],
      "metadata": {
        "colab": {
          "base_uri": "https://localhost:8080/"
        },
        "id": "Z2nhp0I0S8Ke",
        "outputId": "d800c3cc-8764-4275-bf70-060c40643afb"
      },
      "execution_count": 53,
      "outputs": [
        {
          "output_type": "execute_result",
          "data": {
            "text/plain": [
              "(14046, 5)"
            ]
          },
          "metadata": {},
          "execution_count": 53
        }
      ]
    },
    {
      "cell_type": "code",
      "source": [
        "print(accuracy_score(rfc.predict(X_test), y_test).round(3))"
      ],
      "metadata": {
        "colab": {
          "base_uri": "https://localhost:8080/"
        },
        "id": "AaVpTdRHRmih",
        "outputId": "268ed922-4903-452a-89db-fe08da8732f6"
      },
      "execution_count": 54,
      "outputs": [
        {
          "output_type": "stream",
          "name": "stdout",
          "text": [
            "0.998\n"
          ]
        }
      ]
    },
    {
      "cell_type": "markdown",
      "metadata": {
        "id": "wyfaoWjMbHB7"
      },
      "source": [
        "## 3.2. Random Forest Regressor"
      ]
    },
    {
      "cell_type": "code",
      "metadata": {
        "id": "NVkEuLATbHB7"
      },
      "source": [
        "rfr = RandomForest(regression=True)"
      ],
      "execution_count": null,
      "outputs": []
    },
    {
      "cell_type": "code",
      "metadata": {
        "id": "M17e5tMEbHB8"
      },
      "source": [
        "rfr.fit(X_train_r, y_train_r)"
      ],
      "execution_count": null,
      "outputs": []
    },
    {
      "cell_type": "code",
      "metadata": {
        "id": "azdU7ogsbHB9"
      },
      "source": [
        "print(mean_absolute_error(y_train_r, rfr.predict(X_train_r)).round(3))"
      ],
      "execution_count": null,
      "outputs": []
    },
    {
      "cell_type": "markdown",
      "metadata": {
        "id": "Sz5FkjWrbHB_"
      },
      "source": [
        "___\n",
        "\n",
        "# 4. Gradient Boosting"
      ]
    },
    {
      "cell_type": "code",
      "metadata": {
        "id": "a9pmSTUVbHB_"
      },
      "source": [
        "# Loss functions\n",
        "def MSE(y_true:jnp.array, y_pred:jnp.array):\n",
        "    return jnp.mean(jnp.sum(jnp.square(y_true-y_pred)))\n",
        "\n",
        "def CrossEntropy(y_true:jnp.array, y_proba:jnp.array):\n",
        "    y_proba = jnp.clip(y_proba, 1e-5, 1 - 1e-5)\n",
        "    return jnp.sum(- y_true * jnp.log(y_proba) - (1 - y_true) * jnp.log(1 - y_proba))"
      ],
      "execution_count": null,
      "outputs": []
    },
    {
      "cell_type": "code",
      "metadata": {
        "id": "RqJIy-aybHCA"
      },
      "source": [
        "class GradientBoosting:\n",
        "\n",
        "    def __init__(self, n_estimators:int=100, learning_rate:float=.1, regression:bool=True, **kwargs):\n",
        "        self.n_estimators = n_estimators\n",
        "        self.learning_rate = learning_rate\n",
        "        self.regression = regression\n",
        "        self.loss = MSE if self.regression else CrossEntropy\n",
        "\n",
        "        self.estimators = []\n",
        "        for _ in range(self.n_estimators):\n",
        "                self.estimators.append(DecisionTreeRegressor(**kwargs))\n",
        "\n",
        "    def fit(self, X:np.array, y:np.array):\n",
        "        y_pred = np.full(np.shape(y), np.mean(y))\n",
        "        for i, estimator in enumerate(self.estimators):\n",
        "            gradient = jax.grad(self.loss, argnums=1)(y.astype(np.float32), y_pred.astype(np.float32))\n",
        "            self.estimators[i].fit(X, gradient)\n",
        "            update = self.estimators[i].predict(X)\n",
        "            y_pred -= (self.learning_rate * update)\n",
        "\n",
        "    def predict(self, X:np.array):\n",
        "        y_pred = np.zeros(X.shape[0], dtype=np.float32)\n",
        "        for estimator in self.estimators:\n",
        "            y_pred -= (self.learning_rate * estimator.predict(X))\n",
        "    \n",
        "        if not self.regression:\n",
        "            return np.where(1/(1 + np.exp(-y_pred))>.5, 1, 0)\n",
        "        return y_pred"
      ],
      "execution_count": null,
      "outputs": []
    },
    {
      "cell_type": "markdown",
      "metadata": {
        "id": "u8XMuLqdbHCB"
      },
      "source": [
        "## 4.1 Gradient Boosting Regressor"
      ]
    },
    {
      "cell_type": "code",
      "metadata": {
        "id": "jqH293E4bHCC"
      },
      "source": [
        "gbr = GradientBoosting(regression=True)"
      ],
      "execution_count": null,
      "outputs": []
    },
    {
      "cell_type": "code",
      "metadata": {
        "id": "jeIDQWhIbHCD"
      },
      "source": [
        "gbr.fit(X_train_r, y_train_r)"
      ],
      "execution_count": null,
      "outputs": []
    },
    {
      "cell_type": "code",
      "metadata": {
        "id": "iV6RLwq6bHCE"
      },
      "source": [
        "print(mean_absolute_error(gbr.predict(X_test_r), y_test_r).round(3))"
      ],
      "execution_count": null,
      "outputs": []
    },
    {
      "cell_type": "markdown",
      "metadata": {
        "id": "f_1SNcHhbHCF"
      },
      "source": [
        "## 4.2 Gradient Boosting Classifier"
      ]
    },
    {
      "cell_type": "code",
      "metadata": {
        "id": "uqyUxIf4bHCF"
      },
      "source": [
        "gbc = GradientBoosting(regression=False)"
      ],
      "execution_count": null,
      "outputs": []
    },
    {
      "cell_type": "code",
      "metadata": {
        "id": "K_3r58afbHCG"
      },
      "source": [
        "gbc.fit(X_train_c, y_train_c)"
      ],
      "execution_count": null,
      "outputs": []
    },
    {
      "cell_type": "code",
      "metadata": {
        "id": "0XXeK9LwbHCH"
      },
      "source": [
        "print(accuracy_score(gbc.predict(X_test_c), y_test_c).round(3))"
      ],
      "execution_count": null,
      "outputs": []
    },
    {
      "cell_type": "code",
      "metadata": {
        "id": "J6OCwqH4bk7W"
      },
      "source": [],
      "execution_count": null,
      "outputs": []
    }
  ]
}