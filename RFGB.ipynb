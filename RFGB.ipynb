{
  "cells": [
    {
      "cell_type": "code",
      "execution_count": 1,
      "metadata": {
        "colab": {
          "base_uri": "https://localhost:8080/",
          "height": 1000
        },
        "id": "EllnJQ_2-SIu",
        "outputId": "7a1fe0f9-4cb1-4684-d243-bad4af95c4e3"
      },
      "outputs": [
        {
          "output_type": "stream",
          "name": "stdout",
          "text": [
            "Looking in indexes: https://pypi.org/simple, https://us-python.pkg.dev/colab-wheels/public/simple/\n",
            "Requirement already satisfied: matplotlib in /usr/local/lib/python3.8/dist-packages (3.2.2)\n",
            "Collecting scanpy\n",
            "  Downloading scanpy-1.9.1-py3-none-any.whl (2.0 MB)\n",
            "\u001b[2K     \u001b[90m━━━━━━━━━━━━━━━━━━━━━━━━━━━━━━━━━━━━━━━━\u001b[0m \u001b[32m2.0/2.0 MB\u001b[0m \u001b[31m34.7 MB/s\u001b[0m eta \u001b[36m0:00:00\u001b[0m\n",
            "\u001b[?25hRequirement already satisfied: scipy in /usr/local/lib/python3.8/dist-packages (1.7.3)\n",
            "Requirement already satisfied: python-dateutil>=2.1 in /usr/local/lib/python3.8/dist-packages (from matplotlib) (2.8.2)\n",
            "Requirement already satisfied: cycler>=0.10 in /usr/local/lib/python3.8/dist-packages (from matplotlib) (0.11.0)\n",
            "Requirement already satisfied: pyparsing!=2.0.4,!=2.1.2,!=2.1.6,>=2.0.1 in /usr/local/lib/python3.8/dist-packages (from matplotlib) (3.0.9)\n",
            "Requirement already satisfied: numpy>=1.11 in /usr/local/lib/python3.8/dist-packages (from matplotlib) (1.21.6)\n",
            "Requirement already satisfied: kiwisolver>=1.0.1 in /usr/local/lib/python3.8/dist-packages (from matplotlib) (1.4.4)\n",
            "Requirement already satisfied: packaging in /usr/local/lib/python3.8/dist-packages (from scanpy) (21.3)\n",
            "Requirement already satisfied: statsmodels>=0.10.0rc2 in /usr/local/lib/python3.8/dist-packages (from scanpy) (0.12.2)\n",
            "Collecting matplotlib\n",
            "  Downloading matplotlib-3.6.3-cp38-cp38-manylinux_2_12_x86_64.manylinux2010_x86_64.whl (9.4 MB)\n",
            "\u001b[2K     \u001b[90m━━━━━━━━━━━━━━━━━━━━━━━━━━━━━━━━━━━━━━━━\u001b[0m \u001b[32m9.4/9.4 MB\u001b[0m \u001b[31m88.7 MB/s\u001b[0m eta \u001b[36m0:00:00\u001b[0m\n",
            "\u001b[?25hCollecting umap-learn>=0.3.10\n",
            "  Downloading umap-learn-0.5.3.tar.gz (88 kB)\n",
            "\u001b[2K     \u001b[90m━━━━━━━━━━━━━━━━━━━━━━━━━━━━━━━━━━━━━━━━\u001b[0m \u001b[32m88.2/88.2 KB\u001b[0m \u001b[31m11.0 MB/s\u001b[0m eta \u001b[36m0:00:00\u001b[0m\n",
            "\u001b[?25h  Preparing metadata (setup.py) ... \u001b[?25l\u001b[?25hdone\n",
            "Requirement already satisfied: tqdm in /usr/local/lib/python3.8/dist-packages (from scanpy) (4.64.1)\n",
            "Requirement already satisfied: h5py>=3 in /usr/local/lib/python3.8/dist-packages (from scanpy) (3.1.0)\n",
            "Collecting session-info\n",
            "  Downloading session_info-1.0.0.tar.gz (24 kB)\n",
            "  Preparing metadata (setup.py) ... \u001b[?25l\u001b[?25hdone\n",
            "Requirement already satisfied: pandas>=1.0 in /usr/local/lib/python3.8/dist-packages (from scanpy) (1.3.5)\n",
            "Requirement already satisfied: scikit-learn>=0.22 in /usr/local/lib/python3.8/dist-packages (from scanpy) (1.0.2)\n",
            "Requirement already satisfied: networkx>=2.3 in /usr/local/lib/python3.8/dist-packages (from scanpy) (2.8.8)\n",
            "Requirement already satisfied: natsort in /usr/local/lib/python3.8/dist-packages (from scanpy) (5.5.0)\n",
            "Requirement already satisfied: joblib in /usr/local/lib/python3.8/dist-packages (from scanpy) (1.2.0)\n",
            "Requirement already satisfied: seaborn in /usr/local/lib/python3.8/dist-packages (from scanpy) (0.11.2)\n",
            "Requirement already satisfied: patsy in /usr/local/lib/python3.8/dist-packages (from scanpy) (0.5.3)\n",
            "Requirement already satisfied: numba>=0.41.0 in /usr/local/lib/python3.8/dist-packages (from scanpy) (0.56.4)\n",
            "Collecting anndata>=0.7.4\n",
            "  Downloading anndata-0.8.0-py3-none-any.whl (96 kB)\n",
            "\u001b[2K     \u001b[90m━━━━━━━━━━━━━━━━━━━━━━━━━━━━━━━━━━━━━━━━\u001b[0m \u001b[32m96.1/96.1 KB\u001b[0m \u001b[31m12.4 MB/s\u001b[0m eta \u001b[36m0:00:00\u001b[0m\n",
            "\u001b[?25hCollecting fonttools>=4.22.0\n",
            "  Downloading fonttools-4.38.0-py3-none-any.whl (965 kB)\n",
            "\u001b[2K     \u001b[90m━━━━━━━━━━━━━━━━━━━━━━━━━━━━━━━━━━━━━━\u001b[0m \u001b[32m965.4/965.4 KB\u001b[0m \u001b[31m54.0 MB/s\u001b[0m eta \u001b[36m0:00:00\u001b[0m\n",
            "\u001b[?25hCollecting contourpy>=1.0.1\n",
            "  Downloading contourpy-1.0.7-cp38-cp38-manylinux_2_17_x86_64.manylinux2014_x86_64.whl (300 kB)\n",
            "\u001b[2K     \u001b[90m━━━━━━━━━━━━━━━━━━━━━━━━━━━━━━━━━━━━━━\u001b[0m \u001b[32m300.0/300.0 KB\u001b[0m \u001b[31m31.2 MB/s\u001b[0m eta \u001b[36m0:00:00\u001b[0m\n",
            "\u001b[?25hRequirement already satisfied: pillow>=6.2.0 in /usr/local/lib/python3.8/dist-packages (from matplotlib) (7.1.2)\n",
            "Requirement already satisfied: setuptools in /usr/local/lib/python3.8/dist-packages (from numba>=0.41.0->scanpy) (57.4.0)\n",
            "Requirement already satisfied: llvmlite<0.40,>=0.39.0dev0 in /usr/local/lib/python3.8/dist-packages (from numba>=0.41.0->scanpy) (0.39.1)\n",
            "Requirement already satisfied: importlib-metadata in /usr/local/lib/python3.8/dist-packages (from numba>=0.41.0->scanpy) (6.0.0)\n",
            "Requirement already satisfied: pytz>=2017.3 in /usr/local/lib/python3.8/dist-packages (from pandas>=1.0->scanpy) (2022.7)\n",
            "Requirement already satisfied: six>=1.5 in /usr/local/lib/python3.8/dist-packages (from python-dateutil>=2.1->matplotlib) (1.15.0)\n",
            "Requirement already satisfied: threadpoolctl>=2.0.0 in /usr/local/lib/python3.8/dist-packages (from scikit-learn>=0.22->scanpy) (3.1.0)\n",
            "Collecting pynndescent>=0.5\n",
            "  Downloading pynndescent-0.5.8.tar.gz (1.1 MB)\n",
            "\u001b[2K     \u001b[90m━━━━━━━━━━━━━━━━━━━━━━━━━━━━━━━━━━━━━━━━\u001b[0m \u001b[32m1.1/1.1 MB\u001b[0m \u001b[31m66.1 MB/s\u001b[0m eta \u001b[36m0:00:00\u001b[0m\n",
            "\u001b[?25h  Preparing metadata (setup.py) ... \u001b[?25l\u001b[?25hdone\n",
            "Collecting stdlib_list\n",
            "  Downloading stdlib_list-0.8.0-py3-none-any.whl (63 kB)\n",
            "\u001b[2K     \u001b[90m━━━━━━━━━━━━━━━━━━━━━━━━━━━━━━━━━━━━━━━━\u001b[0m \u001b[32m63.5/63.5 KB\u001b[0m \u001b[31m7.1 MB/s\u001b[0m eta \u001b[36m0:00:00\u001b[0m\n",
            "\u001b[?25hRequirement already satisfied: zipp>=0.5 in /usr/local/lib/python3.8/dist-packages (from importlib-metadata->numba>=0.41.0->scanpy) (3.11.0)\n",
            "Building wheels for collected packages: umap-learn, session-info, pynndescent\n",
            "  Building wheel for umap-learn (setup.py) ... \u001b[?25l\u001b[?25hdone\n",
            "  Created wheel for umap-learn: filename=umap_learn-0.5.3-py3-none-any.whl size=82829 sha256=069e8ca3ece90e1e79addab2f52d87692bcef7a92976cf870a7bb3bd5f531e4d\n",
            "  Stored in directory: /root/.cache/pip/wheels/a9/3a/67/06a8950e053725912e6a8c42c4a3a241410f6487b8402542ea\n",
            "  Building wheel for session-info (setup.py) ... \u001b[?25l\u001b[?25hdone\n",
            "  Created wheel for session-info: filename=session_info-1.0.0-py3-none-any.whl size=8046 sha256=0699abebb031d7ac902f8ed4f5585b58baa8b2ebef1555d271e0ea1e37586dc8\n",
            "  Stored in directory: /root/.cache/pip/wheels/5c/1b/4d/111d73980c5c6a8e5e5905a19eccc34296cb359cac54c6c5b9\n",
            "  Building wheel for pynndescent (setup.py) ... \u001b[?25l\u001b[?25hdone\n",
            "  Created wheel for pynndescent: filename=pynndescent-0.5.8-py3-none-any.whl size=55513 sha256=25d8694df21345e919dc0fd3bb00e923d7cd0d17aefc14cdf2ffcb59d77d3084\n",
            "  Stored in directory: /root/.cache/pip/wheels/1c/63/3a/29954bca1a27ba100ed8c27973a78cb71b43dc67aed62e80c3\n",
            "Successfully built umap-learn session-info pynndescent\n",
            "Installing collected packages: stdlib_list, session-info, fonttools, contourpy, matplotlib, pynndescent, anndata, umap-learn, scanpy\n",
            "  Attempting uninstall: matplotlib\n",
            "    Found existing installation: matplotlib 3.2.2\n",
            "    Uninstalling matplotlib-3.2.2:\n",
            "      Successfully uninstalled matplotlib-3.2.2\n",
            "Successfully installed anndata-0.8.0 contourpy-1.0.7 fonttools-4.38.0 matplotlib-3.6.3 pynndescent-0.5.8 scanpy-1.9.1 session-info-1.0.0 stdlib_list-0.8.0 umap-learn-0.5.3\n"
          ]
        },
        {
          "output_type": "display_data",
          "data": {
            "application/vnd.colab-display-data+json": {
              "pip_warning": {
                "packages": [
                  "matplotlib",
                  "mpl_toolkits"
                ]
              }
            }
          },
          "metadata": {}
        }
      ],
      "source": [
        "!pip install matplotlib scanpy scipy"
      ]
    },
    {
      "cell_type": "code",
      "execution_count": 2,
      "metadata": {
        "id": "UW6F429obHBq"
      },
      "outputs": [],
      "source": [
        "from sklearn.tree import DecisionTreeRegressor, DecisionTreeClassifier\n",
        "from sklearn.ensemble import RandomForestRegressor\n",
        "from sklearn.multioutput import MultiOutputRegressor\n",
        "from sklearn.datasets import load_boston, load_breast_cancer\n",
        "from sklearn.model_selection import train_test_split\n",
        "from sklearn.metrics import accuracy_score, mean_absolute_error\n",
        "from sklearn.preprocessing import OneHotEncoder\n",
        "from collections import Counter\n",
        "import numpy as np\n",
        "import pandas as pd\n",
        "import jax\n",
        "import jax.numpy as jnp\n",
        "from tqdm import tqdm \n",
        "import pickle as pkl\n",
        "from typing import Tuple, Union\n",
        "import scipy"
      ]
    },
    {
      "cell_type": "code",
      "execution_count": 3,
      "metadata": {
        "colab": {
          "base_uri": "https://localhost:8080/"
        },
        "id": "QtyIQQxI9Fzl",
        "outputId": "009b1637-67dd-4d34-ca98-65ca63b5ce57"
      },
      "outputs": [
        {
          "output_type": "stream",
          "name": "stdout",
          "text": [
            "scanpy==1.9.1 anndata==0.8.0 umap==0.5.3 numpy==1.21.6 scipy==1.7.3 pandas==1.3.5 scikit-learn==1.0.2 statsmodels==0.12.2 pynndescent==0.5.8\n"
          ]
        }
      ],
      "source": [
        "import scanpy as sc\n",
        "\n",
        "from warnings import filterwarnings\n",
        "filterwarnings('ignore')\n",
        "\n",
        "sc.settings.verbosity = 3\n",
        "sc.logging.print_header()\n",
        "sc.settings.set_figure_params(dpi=80, facecolor='white')\n",
        "\n",
        "np.set_printoptions(precision=3)"
      ]
    },
    {
      "cell_type": "code",
      "execution_count": 4,
      "metadata": {
        "id": "vvE18Kn399xT"
      },
      "outputs": [],
      "source": [
        "import seaborn as sns\n",
        "import matplotlib.pyplot as plt"
      ]
    },
    {
      "cell_type": "markdown",
      "metadata": {
        "id": "gtLbd3WpbHBv"
      },
      "source": [
        "# 1.1 Datasets"
      ]
    },
    {
      "cell_type": "code",
      "execution_count": 5,
      "metadata": {
        "colab": {
          "base_uri": "https://localhost:8080/"
        },
        "id": "qzOjuKi7-JZj",
        "outputId": "95d91ded-c1cb-483c-d960-bc56589ab9d5"
      },
      "outputs": [
        {
          "output_type": "stream",
          "name": "stdout",
          "text": [
            "--2023-01-16 16:38:07--  https://saturn-public-data.s3.us-east-2.amazonaws.com/cancer-immunotherapy-challenge/data/sc_training.h5ad\n",
            "Resolving saturn-public-data.s3.us-east-2.amazonaws.com (saturn-public-data.s3.us-east-2.amazonaws.com)... 3.5.129.112\n",
            "Connecting to saturn-public-data.s3.us-east-2.amazonaws.com (saturn-public-data.s3.us-east-2.amazonaws.com)|3.5.129.112|:443... connected.\n",
            "HTTP request sent, awaiting response... 200 OK\n",
            "Length: 1291266853 (1.2G) [binary/octet-stream]\n",
            "Saving to: ‘sc_training.h5ad’\n",
            "\n",
            "sc_training.h5ad    100%[===================>]   1.20G  45.0MB/s    in 29s     \n",
            "\n",
            "2023-01-16 16:38:37 (42.1 MB/s) - ‘sc_training.h5ad’ saved [1291266853/1291266853]\n",
            "\n"
          ]
        }
      ],
      "source": [
        "!wget https://saturn-public-data.s3.us-east-2.amazonaws.com/cancer-immunotherapy-challenge/data/sc_training.h5ad"
      ]
    },
    {
      "cell_type": "code",
      "execution_count": 6,
      "metadata": {
        "colab": {
          "base_uri": "https://localhost:8080/"
        },
        "id": "DjcbuGhX-4ZM",
        "outputId": "db5887cf-178a-4f7d-a9e8-106bd3e67351"
      },
      "outputs": [
        {
          "output_type": "stream",
          "name": "stdout",
          "text": [
            "--2023-01-16 16:38:37--  https://saturn-public-data.s3.us-east-2.amazonaws.com/cancer-immunotherapy-challenge/code/sc_training_visualization.ipynb\n",
            "Resolving saturn-public-data.s3.us-east-2.amazonaws.com (saturn-public-data.s3.us-east-2.amazonaws.com)... 52.219.103.50\n",
            "Connecting to saturn-public-data.s3.us-east-2.amazonaws.com (saturn-public-data.s3.us-east-2.amazonaws.com)|52.219.103.50|:443... connected.\n",
            "HTTP request sent, awaiting response... 200 OK\n",
            "Length: 446576 (436K) [binary/octet-stream]\n",
            "Saving to: ‘sc_training_visualization.ipynb’\n",
            "\n",
            "sc_training_visuali 100%[===================>] 436.11K  1.70MB/s    in 0.3s    \n",
            "\n",
            "2023-01-16 16:38:37 (1.70 MB/s) - ‘sc_training_visualization.ipynb’ saved [446576/446576]\n",
            "\n"
          ]
        }
      ],
      "source": [
        "!wget https://saturn-public-data.s3.us-east-2.amazonaws.com/cancer-immunotherapy-challenge/code/sc_training_visualization.ipynb"
      ]
    },
    {
      "cell_type": "code",
      "execution_count": 7,
      "metadata": {
        "colab": {
          "base_uri": "https://localhost:8080/"
        },
        "id": "Zaz2cCfG-9OC",
        "outputId": "5fef02e5-6e9a-4021-94ef-99b60e6bb7d0"
      },
      "outputs": [
        {
          "output_type": "stream",
          "name": "stdout",
          "text": [
            "--2023-01-16 16:38:37--  https://saturn-public-data.s3.us-east-2.amazonaws.com/cancer-immunotherapy-challenge/data/clone_information.csv\n",
            "Resolving saturn-public-data.s3.us-east-2.amazonaws.com (saturn-public-data.s3.us-east-2.amazonaws.com)... 52.219.103.50\n",
            "Connecting to saturn-public-data.s3.us-east-2.amazonaws.com (saturn-public-data.s3.us-east-2.amazonaws.com)|52.219.103.50|:443... connected.\n",
            "HTTP request sent, awaiting response... 200 OK\n",
            "Length: 1542596 (1.5M) [text/csv]\n",
            "Saving to: ‘clone_information.csv’\n",
            "\n",
            "clone_information.c 100%[===================>]   1.47M  3.97MB/s    in 0.4s    \n",
            "\n",
            "2023-01-16 16:38:38 (3.97 MB/s) - ‘clone_information.csv’ saved [1542596/1542596]\n",
            "\n"
          ]
        }
      ],
      "source": [
        "!wget https://saturn-public-data.s3.us-east-2.amazonaws.com/cancer-immunotherapy-challenge/data/clone_information.csv"
      ]
    },
    {
      "cell_type": "code",
      "execution_count": 8,
      "metadata": {
        "colab": {
          "base_uri": "https://localhost:8080/"
        },
        "id": "CojnTfVv-_k8",
        "outputId": "ec8dddaf-6ba3-4b2d-ce0d-4807003aeff6"
      },
      "outputs": [
        {
          "output_type": "stream",
          "name": "stdout",
          "text": [
            "--2023-01-16 16:38:38--  https://saturn-public-data.s3.us-east-2.amazonaws.com/cancer-immunotherapy-challenge/data/guide_abundance.csv\n",
            "Resolving saturn-public-data.s3.us-east-2.amazonaws.com (saturn-public-data.s3.us-east-2.amazonaws.com)... 52.219.103.50\n",
            "Connecting to saturn-public-data.s3.us-east-2.amazonaws.com (saturn-public-data.s3.us-east-2.amazonaws.com)|52.219.103.50|:443... connected.\n",
            "HTTP request sent, awaiting response... 200 OK\n",
            "Length: 4452 (4.3K) [text/csv]\n",
            "Saving to: ‘guide_abundance.csv’\n",
            "\n",
            "guide_abundance.csv 100%[===================>]   4.35K  --.-KB/s    in 0s      \n",
            "\n",
            "2023-01-16 16:38:39 (163 MB/s) - ‘guide_abundance.csv’ saved [4452/4452]\n",
            "\n"
          ]
        }
      ],
      "source": [
        "!wget https://saturn-public-data.s3.us-east-2.amazonaws.com/cancer-immunotherapy-challenge/data/guide_abundance.csv"
      ]
    },
    {
      "cell_type": "code",
      "execution_count": 9,
      "metadata": {
        "colab": {
          "base_uri": "https://localhost:8080/"
        },
        "id": "OZ3scgpT_Cwr",
        "outputId": "5109d16e-3dd2-413f-8ba8-d64e0540069c"
      },
      "outputs": [
        {
          "output_type": "stream",
          "name": "stdout",
          "text": [
            "--2023-01-16 16:38:39--  https://saturn-public-data.s3.us-east-2.amazonaws.com/cancer-immunotherapy-challenge/data/scRNA_ATAC.h5\n",
            "Resolving saturn-public-data.s3.us-east-2.amazonaws.com (saturn-public-data.s3.us-east-2.amazonaws.com)... 52.219.103.50\n",
            "Connecting to saturn-public-data.s3.us-east-2.amazonaws.com (saturn-public-data.s3.us-east-2.amazonaws.com)|52.219.103.50|:443... connected.\n",
            "HTTP request sent, awaiting response... 200 OK\n",
            "Length: 87606852 (84M) [application/x-hdf5]\n",
            "Saving to: ‘scRNA_ATAC.h5’\n",
            "\n",
            "scRNA_ATAC.h5       100%[===================>]  83.55M  35.2MB/s    in 2.4s    \n",
            "\n",
            "2023-01-16 16:38:42 (35.2 MB/s) - ‘scRNA_ATAC.h5’ saved [87606852/87606852]\n",
            "\n"
          ]
        }
      ],
      "source": [
        "!wget https://saturn-public-data.s3.us-east-2.amazonaws.com/cancer-immunotherapy-challenge/data/scRNA_ATAC.h5"
      ]
    },
    {
      "cell_type": "markdown",
      "metadata": {
        "id": "xnHHyZUeoII9"
      },
      "source": [
        "For *read_h5ad()*, see [scanpy documentation](https://scanpy.readthedocs.io/en/stable/generated/scanpy.read_h5ad.html)"
      ]
    },
    {
      "cell_type": "code",
      "execution_count": 10,
      "metadata": {
        "colab": {
          "base_uri": "https://localhost:8080/"
        },
        "id": "5jxmK85X-VUu",
        "outputId": "d2270442-3a56-4d39-d03d-1a7ad8d6df77"
      },
      "outputs": [
        {
          "output_type": "execute_result",
          "data": {
            "text/plain": [
              "AnnData object with n_obs × n_vars = 28697 × 15077\n",
              "    obs: 'gRNA_maxID', 'state', 'condition', 'lane'\n",
              "    layers: 'rawcounts'"
            ]
          },
          "metadata": {},
          "execution_count": 10
        }
      ],
      "source": [
        "adata = sc.read_h5ad('./sc_training.h5ad')\n",
        "adata"
      ]
    },
    {
      "cell_type": "markdown",
      "metadata": {
        "id": "mHok28d9nbei"
      },
      "source": [
        "For *adata* object type, see [AnnData documentation](https://anndata.readthedocs.io/en/stable/generated/anndata.AnnData.html#anndata.AnnData)"
      ]
    },
    {
      "cell_type": "code",
      "execution_count": 11,
      "metadata": {
        "id": "9XbVrdc7E-KR",
        "colab": {
          "base_uri": "https://localhost:8080/",
          "height": 424
        },
        "outputId": "71bee0f0-044c-4ce4-ee4c-e30e9a34c802"
      },
      "outputs": [
        {
          "output_type": "execute_result",
          "data": {
            "text/plain": [
              "                                   gRNA_maxID               state  \\\n",
              "053l1_AAACCTGAGATGTCGG-1  ONE-NON-GENE-SITE-7  terminal exhausted   \n",
              "053l1_AAACCTGAGCAACGGT-1               Tox2-3            effector   \n",
              "053l1_AAACCTGAGTACGACG-1               Tpt1-2            effector   \n",
              "053l1_AAACCTGAGTCGTTTG-1               Tox2-3  terminal exhausted   \n",
              "053l1_AAACCTGAGTGAAGAG-1               Tcf7-2            effector   \n",
              "...                                       ...                 ...   \n",
              "053l4_TTTGTCATCAGGTTCA-1               Tox2-3               other   \n",
              "053l4_TTTGTCATCAGTGTTG-1               Dvl2-3             cycling   \n",
              "053l4_TTTGTCATCCTCGCAT-1               Zeb2-2             cycling   \n",
              "053l4_TTTGTCATCTTCAACT-1               Sox4-3             cycling   \n",
              "053l4_TTTGTCATCTTTCCTC-1               Dvl2-3             cycling   \n",
              "\n",
              "                            condition   lane  \n",
              "053l1_AAACCTGAGATGTCGG-1  Unperturbed  lane1  \n",
              "053l1_AAACCTGAGCAACGGT-1         Tox2  lane1  \n",
              "053l1_AAACCTGAGTACGACG-1         Tpt1  lane1  \n",
              "053l1_AAACCTGAGTCGTTTG-1         Tox2  lane1  \n",
              "053l1_AAACCTGAGTGAAGAG-1         Tcf7  lane1  \n",
              "...                               ...    ...  \n",
              "053l4_TTTGTCATCAGGTTCA-1         Tox2  lane4  \n",
              "053l4_TTTGTCATCAGTGTTG-1         Dvl2  lane4  \n",
              "053l4_TTTGTCATCCTCGCAT-1         Zeb2  lane4  \n",
              "053l4_TTTGTCATCTTCAACT-1         Sox4  lane4  \n",
              "053l4_TTTGTCATCTTTCCTC-1         Dvl2  lane4  \n",
              "\n",
              "[28697 rows x 4 columns]"
            ],
            "text/html": [
              "\n",
              "  <div id=\"df-dc28042c-0a16-49cc-a73a-819ac62f1826\">\n",
              "    <div class=\"colab-df-container\">\n",
              "      <div>\n",
              "<style scoped>\n",
              "    .dataframe tbody tr th:only-of-type {\n",
              "        vertical-align: middle;\n",
              "    }\n",
              "\n",
              "    .dataframe tbody tr th {\n",
              "        vertical-align: top;\n",
              "    }\n",
              "\n",
              "    .dataframe thead th {\n",
              "        text-align: right;\n",
              "    }\n",
              "</style>\n",
              "<table border=\"1\" class=\"dataframe\">\n",
              "  <thead>\n",
              "    <tr style=\"text-align: right;\">\n",
              "      <th></th>\n",
              "      <th>gRNA_maxID</th>\n",
              "      <th>state</th>\n",
              "      <th>condition</th>\n",
              "      <th>lane</th>\n",
              "    </tr>\n",
              "  </thead>\n",
              "  <tbody>\n",
              "    <tr>\n",
              "      <th>053l1_AAACCTGAGATGTCGG-1</th>\n",
              "      <td>ONE-NON-GENE-SITE-7</td>\n",
              "      <td>terminal exhausted</td>\n",
              "      <td>Unperturbed</td>\n",
              "      <td>lane1</td>\n",
              "    </tr>\n",
              "    <tr>\n",
              "      <th>053l1_AAACCTGAGCAACGGT-1</th>\n",
              "      <td>Tox2-3</td>\n",
              "      <td>effector</td>\n",
              "      <td>Tox2</td>\n",
              "      <td>lane1</td>\n",
              "    </tr>\n",
              "    <tr>\n",
              "      <th>053l1_AAACCTGAGTACGACG-1</th>\n",
              "      <td>Tpt1-2</td>\n",
              "      <td>effector</td>\n",
              "      <td>Tpt1</td>\n",
              "      <td>lane1</td>\n",
              "    </tr>\n",
              "    <tr>\n",
              "      <th>053l1_AAACCTGAGTCGTTTG-1</th>\n",
              "      <td>Tox2-3</td>\n",
              "      <td>terminal exhausted</td>\n",
              "      <td>Tox2</td>\n",
              "      <td>lane1</td>\n",
              "    </tr>\n",
              "    <tr>\n",
              "      <th>053l1_AAACCTGAGTGAAGAG-1</th>\n",
              "      <td>Tcf7-2</td>\n",
              "      <td>effector</td>\n",
              "      <td>Tcf7</td>\n",
              "      <td>lane1</td>\n",
              "    </tr>\n",
              "    <tr>\n",
              "      <th>...</th>\n",
              "      <td>...</td>\n",
              "      <td>...</td>\n",
              "      <td>...</td>\n",
              "      <td>...</td>\n",
              "    </tr>\n",
              "    <tr>\n",
              "      <th>053l4_TTTGTCATCAGGTTCA-1</th>\n",
              "      <td>Tox2-3</td>\n",
              "      <td>other</td>\n",
              "      <td>Tox2</td>\n",
              "      <td>lane4</td>\n",
              "    </tr>\n",
              "    <tr>\n",
              "      <th>053l4_TTTGTCATCAGTGTTG-1</th>\n",
              "      <td>Dvl2-3</td>\n",
              "      <td>cycling</td>\n",
              "      <td>Dvl2</td>\n",
              "      <td>lane4</td>\n",
              "    </tr>\n",
              "    <tr>\n",
              "      <th>053l4_TTTGTCATCCTCGCAT-1</th>\n",
              "      <td>Zeb2-2</td>\n",
              "      <td>cycling</td>\n",
              "      <td>Zeb2</td>\n",
              "      <td>lane4</td>\n",
              "    </tr>\n",
              "    <tr>\n",
              "      <th>053l4_TTTGTCATCTTCAACT-1</th>\n",
              "      <td>Sox4-3</td>\n",
              "      <td>cycling</td>\n",
              "      <td>Sox4</td>\n",
              "      <td>lane4</td>\n",
              "    </tr>\n",
              "    <tr>\n",
              "      <th>053l4_TTTGTCATCTTTCCTC-1</th>\n",
              "      <td>Dvl2-3</td>\n",
              "      <td>cycling</td>\n",
              "      <td>Dvl2</td>\n",
              "      <td>lane4</td>\n",
              "    </tr>\n",
              "  </tbody>\n",
              "</table>\n",
              "<p>28697 rows × 4 columns</p>\n",
              "</div>\n",
              "      <button class=\"colab-df-convert\" onclick=\"convertToInteractive('df-dc28042c-0a16-49cc-a73a-819ac62f1826')\"\n",
              "              title=\"Convert this dataframe to an interactive table.\"\n",
              "              style=\"display:none;\">\n",
              "        \n",
              "  <svg xmlns=\"http://www.w3.org/2000/svg\" height=\"24px\"viewBox=\"0 0 24 24\"\n",
              "       width=\"24px\">\n",
              "    <path d=\"M0 0h24v24H0V0z\" fill=\"none\"/>\n",
              "    <path d=\"M18.56 5.44l.94 2.06.94-2.06 2.06-.94-2.06-.94-.94-2.06-.94 2.06-2.06.94zm-11 1L8.5 8.5l.94-2.06 2.06-.94-2.06-.94L8.5 2.5l-.94 2.06-2.06.94zm10 10l.94 2.06.94-2.06 2.06-.94-2.06-.94-.94-2.06-.94 2.06-2.06.94z\"/><path d=\"M17.41 7.96l-1.37-1.37c-.4-.4-.92-.59-1.43-.59-.52 0-1.04.2-1.43.59L10.3 9.45l-7.72 7.72c-.78.78-.78 2.05 0 2.83L4 21.41c.39.39.9.59 1.41.59.51 0 1.02-.2 1.41-.59l7.78-7.78 2.81-2.81c.8-.78.8-2.07 0-2.86zM5.41 20L4 18.59l7.72-7.72 1.47 1.35L5.41 20z\"/>\n",
              "  </svg>\n",
              "      </button>\n",
              "      \n",
              "  <style>\n",
              "    .colab-df-container {\n",
              "      display:flex;\n",
              "      flex-wrap:wrap;\n",
              "      gap: 12px;\n",
              "    }\n",
              "\n",
              "    .colab-df-convert {\n",
              "      background-color: #E8F0FE;\n",
              "      border: none;\n",
              "      border-radius: 50%;\n",
              "      cursor: pointer;\n",
              "      display: none;\n",
              "      fill: #1967D2;\n",
              "      height: 32px;\n",
              "      padding: 0 0 0 0;\n",
              "      width: 32px;\n",
              "    }\n",
              "\n",
              "    .colab-df-convert:hover {\n",
              "      background-color: #E2EBFA;\n",
              "      box-shadow: 0px 1px 2px rgba(60, 64, 67, 0.3), 0px 1px 3px 1px rgba(60, 64, 67, 0.15);\n",
              "      fill: #174EA6;\n",
              "    }\n",
              "\n",
              "    [theme=dark] .colab-df-convert {\n",
              "      background-color: #3B4455;\n",
              "      fill: #D2E3FC;\n",
              "    }\n",
              "\n",
              "    [theme=dark] .colab-df-convert:hover {\n",
              "      background-color: #434B5C;\n",
              "      box-shadow: 0px 1px 3px 1px rgba(0, 0, 0, 0.15);\n",
              "      filter: drop-shadow(0px 1px 2px rgba(0, 0, 0, 0.3));\n",
              "      fill: #FFFFFF;\n",
              "    }\n",
              "  </style>\n",
              "\n",
              "      <script>\n",
              "        const buttonEl =\n",
              "          document.querySelector('#df-dc28042c-0a16-49cc-a73a-819ac62f1826 button.colab-df-convert');\n",
              "        buttonEl.style.display =\n",
              "          google.colab.kernel.accessAllowed ? 'block' : 'none';\n",
              "\n",
              "        async function convertToInteractive(key) {\n",
              "          const element = document.querySelector('#df-dc28042c-0a16-49cc-a73a-819ac62f1826');\n",
              "          const dataTable =\n",
              "            await google.colab.kernel.invokeFunction('convertToInteractive',\n",
              "                                                     [key], {});\n",
              "          if (!dataTable) return;\n",
              "\n",
              "          const docLinkHtml = 'Like what you see? Visit the ' +\n",
              "            '<a target=\"_blank\" href=https://colab.research.google.com/notebooks/data_table.ipynb>data table notebook</a>'\n",
              "            + ' to learn more about interactive tables.';\n",
              "          element.innerHTML = '';\n",
              "          dataTable['output_type'] = 'display_data';\n",
              "          await google.colab.output.renderOutput(dataTable, element);\n",
              "          const docLink = document.createElement('div');\n",
              "          docLink.innerHTML = docLinkHtml;\n",
              "          element.appendChild(docLink);\n",
              "        }\n",
              "      </script>\n",
              "    </div>\n",
              "  </div>\n",
              "  "
            ]
          },
          "metadata": {},
          "execution_count": 11
        }
      ],
      "source": [
        "adata.obs"
      ]
    },
    {
      "cell_type": "markdown",
      "metadata": {
        "id": "mVK2u2N2ZZ_S"
      },
      "source": [
        "# 1.1 Preprocess data"
      ]
    },
    {
      "cell_type": "code",
      "execution_count": 12,
      "metadata": {
        "id": "CZca6tq7ZhFe",
        "colab": {
          "base_uri": "https://localhost:8080/"
        },
        "outputId": "c6b354ad-beb9-44e0-fc62-d19965b3534d"
      },
      "outputs": [
        {
          "output_type": "execute_result",
          "data": {
            "text/plain": [
              "array([[0.512, 0.   , 0.   , 0.   , 0.   , 0.   , 0.   , 0.   , 0.   ,\n",
              "        0.   ],\n",
              "       [0.484, 0.484, 0.809, 0.   , 0.   , 0.   , 0.   , 0.   , 0.484,\n",
              "        0.   ],\n",
              "       [0.   , 0.   , 0.   , 0.   , 0.   , 0.   , 0.694, 0.   , 0.   ,\n",
              "        0.   ],\n",
              "       [0.   , 0.   , 0.   , 0.   , 0.   , 0.   , 0.   , 0.   , 0.   ,\n",
              "        0.   ],\n",
              "       [0.   , 0.   , 0.   , 0.   , 0.   , 0.   , 0.   , 0.   , 0.   ,\n",
              "        0.   ],\n",
              "       [0.   , 1.089, 0.686, 0.686, 0.   , 0.   , 0.   , 0.   , 0.   ,\n",
              "        0.   ],\n",
              "       [0.   , 0.193, 0.493, 0.   , 0.   , 0.   , 0.193, 0.   , 0.724,\n",
              "        0.   ],\n",
              "       [0.   , 0.   , 0.   , 0.   , 0.   , 0.   , 0.   , 0.   , 0.   ,\n",
              "        0.   ],\n",
              "       [0.292, 0.292, 0.292, 0.292, 0.292, 0.   , 0.   , 0.   , 0.292,\n",
              "        0.   ],\n",
              "       [0.412, 0.704, 0.   , 0.   , 0.   , 0.   , 0.   , 0.   , 0.   ,\n",
              "        0.   ]], dtype=float32)"
            ]
          },
          "metadata": {},
          "execution_count": 12
        }
      ],
      "source": [
        "expression_data = adata.X\n",
        "obs = adata.obs\n",
        "lane_data = obs['lane'].values\n",
        "lane_data_unique = np.sort(list(set(lane_data))).reshape(-1, 1)\n",
        "\n",
        "# If the obs['lane'] is categorical variable, it's better to encode it using one-hot encoding \n",
        "# before adding it to the X_train to avoid any bias in the model.\n",
        "encoder = OneHotEncoder()\n",
        "one_hot_encoded = np.array(encoder.fit_transform(lane_data_unique).toarray())\n",
        "lane_data_dict = {lane_data_unique[i][0]: one_hot_encoded[i] for i in \n",
        "                  range(len(lane_data_unique))}\n",
        "one_hot_lane_data = [lane_data_dict[lane] for lane in lane_data]\n",
        "\n",
        "expression_data_sub = expression_data[:10, :10]\n",
        "expression_data_sub.toarray()"
      ]
    },
    {
      "cell_type": "markdown",
      "metadata": {
        "id": "cn0usAQFglbE"
      },
      "source": [
        "Each row in this matrix represents a cell type (28,697 in total) and the column represents 15,077 genes. The elements indicate the expression levels. "
      ]
    },
    {
      "cell_type": "code",
      "execution_count": 19,
      "metadata": {
        "id": "SAFV0Dm4oJAN"
      },
      "outputs": [],
      "source": [
        "obs = adata.obs\n",
        "genes = adata.var.index.tolist()\n",
        "\n",
        "# embeds one_hot_lane_data into expression data\n",
        "one_hot_lane_data = np.array(one_hot_lane_data)\n",
        "from scipy.sparse import hstack\n",
        "expression_data = hstack((expression_data, one_hot_lane_data))\n",
        "#expression_data = np.concatenate((expression_data, one_hot_lane_data), axis=1)\n",
        "#expression_data = np.hstack((expression_data, one_hot_lane_data))\n",
        "\n",
        "expression_data_csc = expression_data.tocsc()\n",
        "\n",
        "test_genes = ['Ets1', 'Fosb', 'Mafk', 'Stat3']\n",
        "validation_genes = ['Aqr', 'Bach2', 'Bhlhe40']\n",
        "\n",
        "test_indices = [genes.index(x) for x in test_genes if x in genes]\n",
        "validation_indices = [genes.index(x) for x in validation_genes if x in genes]\n",
        "\n",
        "X_test = expression_data_csc[:, test_indices]\n",
        "X_test = X_test.tocsr()\n",
        "X_val = expression_data_csc[:, validation_indices]\n",
        "X_val = X_val.tocsr()\n",
        "\n",
        "all_indices = jnp.arange(expression_data_csc.shape[1])\n",
        "rm_indices = test_indices + validation_indices\n",
        "rm_indices.sort()\n",
        "keep_indices = jnp.setdiff1d(jnp.array(all_indices), jnp.array(rm_indices))\n",
        "\n",
        "expression_data_csc = expression_data_csc[:, keep_indices]\n",
        "X_train = expression_data_csc.tocsr()\n",
        "\n",
        "obs_cond_idx = obs.set_index('condition')\n",
        "\n",
        "exclude_list = ['Unperturbed', 'Fzd1', 'P2rx7']\n",
        "dropped_obs = obs_cond_idx.drop(index=exclude_list)\n",
        "\n",
        "removed_indices = obs_cond_idx.index.isin(exclude_list)\n",
        "\n",
        "X_train, X_test, X_val = X_train[~removed_indices], X_test[~removed_indices],\\\n",
        "                          X_val[~removed_indices]\n",
        "X_train, X_test, X_val = X_train.toarray(), X_test.toarray(), X_val.toarray()"
      ]
    },
    {
      "cell_type": "markdown",
      "metadata": {
        "id": "L852YbKTwPPh"
      },
      "source": [
        "Now we have our train, test and validation samples. \n",
        "\n"
      ]
    },
    {
      "cell_type": "code",
      "execution_count": 20,
      "metadata": {
        "id": "dXjs8ZKw0cDf"
      },
      "outputs": [],
      "source": [
        "states = ['progenitor', 'effector', 'terminal exhausted', 'cycling', 'other']\n",
        "ground_truth = {}\n",
        "\n",
        "for gene in genes:\n",
        "  state_frequency = {state: 0 for state in states}\n",
        "  rows = obs[obs['condition'] == gene]\n",
        "\n",
        "  if not rows.empty:  \n",
        "    for index, row in rows.iterrows():\n",
        "        state = row['state']\n",
        "        if state not in states:\n",
        "          state_frequency['other'] += 1\n",
        "        else:\n",
        "          state_frequency[state] += 1\n",
        "    \n",
        "    total_count = sum(state_frequency.values())\n",
        "    for state, count in state_frequency.items():\n",
        "        state_frequency[state] = count / total_count\n",
        "    \n",
        "    ground_truth[gene] = list(state_frequency.values())"
      ]
    },
    {
      "cell_type": "markdown",
      "metadata": {
        "id": "XCtmkBzFvxty"
      },
      "source": [
        "Now we have a dictionary that stores the ground truth, i.e. the cell state frequencies, for each gene. Note that each list in this dictionary sums to 1, as required. We have 64 ground truth vectors because of the 66 knockout experiments that are used for training purposes, 2 did not pass quality control (see: [challenge 1 document](https://drive.google.com/file/d/1rR5oIhETmyVu6Uo5BsWjIokdBZctKzCE/view)). \n",
        "\n",
        "Next up, we'll have to generate our y_data and filter the unperturbed, and genes that didn't pass the quality control from our training and testing data."
      ]
    },
    {
      "cell_type": "code",
      "execution_count": 27,
      "metadata": {
        "id": "WWsKC6BBJG6q",
        "colab": {
          "base_uri": "https://localhost:8080/",
          "height": 455
        },
        "outputId": "991bb0ff-261c-4db0-ba81-3d15c576b13e"
      },
      "outputs": [
        {
          "output_type": "execute_result",
          "data": {
            "text/plain": [
              "          progenitor  effector terminal exhausted   cycling     other\n",
              "condition                                                            \n",
              "Tox2        0.017309  0.057004           0.367874   0.53081  0.027002\n",
              "Tpt1            0.44      0.16               0.12      0.28       0.0\n",
              "Tox2        0.017309  0.057004           0.367874   0.53081  0.027002\n",
              "Tcf7        0.104377  0.292929           0.313131  0.276094  0.013468\n",
              "Tox2        0.017309  0.057004           0.367874   0.53081  0.027002\n",
              "...              ...       ...                ...       ...       ...\n",
              "Tox2        0.017309  0.057004           0.367874   0.53081  0.027002\n",
              "Dvl2         0.02439  0.115509           0.304188  0.549471  0.006443\n",
              "Zeb2        0.017483  0.115385           0.282051  0.439394  0.145688\n",
              "Sox4        0.069697  0.112121           0.290909  0.512121  0.015152\n",
              "Dvl2         0.02439  0.115509           0.304188  0.549471  0.006443\n",
              "\n",
              "[23411 rows x 5 columns]"
            ],
            "text/html": [
              "\n",
              "  <div id=\"df-6ac5ed0e-07e6-4944-a71d-55bb98bc2188\">\n",
              "    <div class=\"colab-df-container\">\n",
              "      <div>\n",
              "<style scoped>\n",
              "    .dataframe tbody tr th:only-of-type {\n",
              "        vertical-align: middle;\n",
              "    }\n",
              "\n",
              "    .dataframe tbody tr th {\n",
              "        vertical-align: top;\n",
              "    }\n",
              "\n",
              "    .dataframe thead th {\n",
              "        text-align: right;\n",
              "    }\n",
              "</style>\n",
              "<table border=\"1\" class=\"dataframe\">\n",
              "  <thead>\n",
              "    <tr style=\"text-align: right;\">\n",
              "      <th></th>\n",
              "      <th>progenitor</th>\n",
              "      <th>effector</th>\n",
              "      <th>terminal exhausted</th>\n",
              "      <th>cycling</th>\n",
              "      <th>other</th>\n",
              "    </tr>\n",
              "    <tr>\n",
              "      <th>condition</th>\n",
              "      <th></th>\n",
              "      <th></th>\n",
              "      <th></th>\n",
              "      <th></th>\n",
              "      <th></th>\n",
              "    </tr>\n",
              "  </thead>\n",
              "  <tbody>\n",
              "    <tr>\n",
              "      <th>Tox2</th>\n",
              "      <td>0.017309</td>\n",
              "      <td>0.057004</td>\n",
              "      <td>0.367874</td>\n",
              "      <td>0.53081</td>\n",
              "      <td>0.027002</td>\n",
              "    </tr>\n",
              "    <tr>\n",
              "      <th>Tpt1</th>\n",
              "      <td>0.44</td>\n",
              "      <td>0.16</td>\n",
              "      <td>0.12</td>\n",
              "      <td>0.28</td>\n",
              "      <td>0.0</td>\n",
              "    </tr>\n",
              "    <tr>\n",
              "      <th>Tox2</th>\n",
              "      <td>0.017309</td>\n",
              "      <td>0.057004</td>\n",
              "      <td>0.367874</td>\n",
              "      <td>0.53081</td>\n",
              "      <td>0.027002</td>\n",
              "    </tr>\n",
              "    <tr>\n",
              "      <th>Tcf7</th>\n",
              "      <td>0.104377</td>\n",
              "      <td>0.292929</td>\n",
              "      <td>0.313131</td>\n",
              "      <td>0.276094</td>\n",
              "      <td>0.013468</td>\n",
              "    </tr>\n",
              "    <tr>\n",
              "      <th>Tox2</th>\n",
              "      <td>0.017309</td>\n",
              "      <td>0.057004</td>\n",
              "      <td>0.367874</td>\n",
              "      <td>0.53081</td>\n",
              "      <td>0.027002</td>\n",
              "    </tr>\n",
              "    <tr>\n",
              "      <th>...</th>\n",
              "      <td>...</td>\n",
              "      <td>...</td>\n",
              "      <td>...</td>\n",
              "      <td>...</td>\n",
              "      <td>...</td>\n",
              "    </tr>\n",
              "    <tr>\n",
              "      <th>Tox2</th>\n",
              "      <td>0.017309</td>\n",
              "      <td>0.057004</td>\n",
              "      <td>0.367874</td>\n",
              "      <td>0.53081</td>\n",
              "      <td>0.027002</td>\n",
              "    </tr>\n",
              "    <tr>\n",
              "      <th>Dvl2</th>\n",
              "      <td>0.02439</td>\n",
              "      <td>0.115509</td>\n",
              "      <td>0.304188</td>\n",
              "      <td>0.549471</td>\n",
              "      <td>0.006443</td>\n",
              "    </tr>\n",
              "    <tr>\n",
              "      <th>Zeb2</th>\n",
              "      <td>0.017483</td>\n",
              "      <td>0.115385</td>\n",
              "      <td>0.282051</td>\n",
              "      <td>0.439394</td>\n",
              "      <td>0.145688</td>\n",
              "    </tr>\n",
              "    <tr>\n",
              "      <th>Sox4</th>\n",
              "      <td>0.069697</td>\n",
              "      <td>0.112121</td>\n",
              "      <td>0.290909</td>\n",
              "      <td>0.512121</td>\n",
              "      <td>0.015152</td>\n",
              "    </tr>\n",
              "    <tr>\n",
              "      <th>Dvl2</th>\n",
              "      <td>0.02439</td>\n",
              "      <td>0.115509</td>\n",
              "      <td>0.304188</td>\n",
              "      <td>0.549471</td>\n",
              "      <td>0.006443</td>\n",
              "    </tr>\n",
              "  </tbody>\n",
              "</table>\n",
              "<p>23411 rows × 5 columns</p>\n",
              "</div>\n",
              "      <button class=\"colab-df-convert\" onclick=\"convertToInteractive('df-6ac5ed0e-07e6-4944-a71d-55bb98bc2188')\"\n",
              "              title=\"Convert this dataframe to an interactive table.\"\n",
              "              style=\"display:none;\">\n",
              "        \n",
              "  <svg xmlns=\"http://www.w3.org/2000/svg\" height=\"24px\"viewBox=\"0 0 24 24\"\n",
              "       width=\"24px\">\n",
              "    <path d=\"M0 0h24v24H0V0z\" fill=\"none\"/>\n",
              "    <path d=\"M18.56 5.44l.94 2.06.94-2.06 2.06-.94-2.06-.94-.94-2.06-.94 2.06-2.06.94zm-11 1L8.5 8.5l.94-2.06 2.06-.94-2.06-.94L8.5 2.5l-.94 2.06-2.06.94zm10 10l.94 2.06.94-2.06 2.06-.94-2.06-.94-.94-2.06-.94 2.06-2.06.94z\"/><path d=\"M17.41 7.96l-1.37-1.37c-.4-.4-.92-.59-1.43-.59-.52 0-1.04.2-1.43.59L10.3 9.45l-7.72 7.72c-.78.78-.78 2.05 0 2.83L4 21.41c.39.39.9.59 1.41.59.51 0 1.02-.2 1.41-.59l7.78-7.78 2.81-2.81c.8-.78.8-2.07 0-2.86zM5.41 20L4 18.59l7.72-7.72 1.47 1.35L5.41 20z\"/>\n",
              "  </svg>\n",
              "      </button>\n",
              "      \n",
              "  <style>\n",
              "    .colab-df-container {\n",
              "      display:flex;\n",
              "      flex-wrap:wrap;\n",
              "      gap: 12px;\n",
              "    }\n",
              "\n",
              "    .colab-df-convert {\n",
              "      background-color: #E8F0FE;\n",
              "      border: none;\n",
              "      border-radius: 50%;\n",
              "      cursor: pointer;\n",
              "      display: none;\n",
              "      fill: #1967D2;\n",
              "      height: 32px;\n",
              "      padding: 0 0 0 0;\n",
              "      width: 32px;\n",
              "    }\n",
              "\n",
              "    .colab-df-convert:hover {\n",
              "      background-color: #E2EBFA;\n",
              "      box-shadow: 0px 1px 2px rgba(60, 64, 67, 0.3), 0px 1px 3px 1px rgba(60, 64, 67, 0.15);\n",
              "      fill: #174EA6;\n",
              "    }\n",
              "\n",
              "    [theme=dark] .colab-df-convert {\n",
              "      background-color: #3B4455;\n",
              "      fill: #D2E3FC;\n",
              "    }\n",
              "\n",
              "    [theme=dark] .colab-df-convert:hover {\n",
              "      background-color: #434B5C;\n",
              "      box-shadow: 0px 1px 3px 1px rgba(0, 0, 0, 0.15);\n",
              "      filter: drop-shadow(0px 1px 2px rgba(0, 0, 0, 0.3));\n",
              "      fill: #FFFFFF;\n",
              "    }\n",
              "  </style>\n",
              "\n",
              "      <script>\n",
              "        const buttonEl =\n",
              "          document.querySelector('#df-6ac5ed0e-07e6-4944-a71d-55bb98bc2188 button.colab-df-convert');\n",
              "        buttonEl.style.display =\n",
              "          google.colab.kernel.accessAllowed ? 'block' : 'none';\n",
              "\n",
              "        async function convertToInteractive(key) {\n",
              "          const element = document.querySelector('#df-6ac5ed0e-07e6-4944-a71d-55bb98bc2188');\n",
              "          const dataTable =\n",
              "            await google.colab.kernel.invokeFunction('convertToInteractive',\n",
              "                                                     [key], {});\n",
              "          if (!dataTable) return;\n",
              "\n",
              "          const docLinkHtml = 'Like what you see? Visit the ' +\n",
              "            '<a target=\"_blank\" href=https://colab.research.google.com/notebooks/data_table.ipynb>data table notebook</a>'\n",
              "            + ' to learn more about interactive tables.';\n",
              "          element.innerHTML = '';\n",
              "          dataTable['output_type'] = 'display_data';\n",
              "          await google.colab.output.renderOutput(dataTable, element);\n",
              "          const docLink = document.createElement('div');\n",
              "          docLink.innerHTML = docLinkHtml;\n",
              "          element.appendChild(docLink);\n",
              "        }\n",
              "      </script>\n",
              "    </div>\n",
              "  </div>\n",
              "  "
            ]
          },
          "metadata": {},
          "execution_count": 27
        }
      ],
      "source": [
        "y_data_dict = ground_truth.copy()\n",
        "y_data = pd.DataFrame.from_dict(y_data_dict, orient='index', \n",
        "                                         columns=['progenitor', 'effector', \n",
        "                                         'terminal exhausted', 'cycling', \n",
        "                                         'other'])\n",
        "y_data_expand = pd.DataFrame(columns=y_data.columns, index=dropped_obs.index)\n",
        "idx = 0\n",
        "for condition, row in dropped_obs.iterrows():\n",
        "    gene = condition\n",
        "    state_data = y_data.loc[gene]\n",
        "    y_data_expand.iloc[idx] = state_data\n",
        "    idx += 1\n",
        "\n",
        "y_train = y_data_expand\n",
        "y_train"
      ]
    },
    {
      "cell_type": "code",
      "execution_count": 28,
      "metadata": {
        "id": "O-i40N8eOKj0",
        "colab": {
          "base_uri": "https://localhost:8080/"
        },
        "outputId": "04c3613c-d505-49f4-f709-47ac0987daa4"
      },
      "outputs": [
        {
          "output_type": "execute_result",
          "data": {
            "text/plain": [
              "(18728, 15074)"
            ]
          },
          "metadata": {},
          "execution_count": 28
        }
      ],
      "source": [
        "X = X_train\n",
        "X.shape"
      ]
    },
    {
      "cell_type": "code",
      "execution_count": 29,
      "metadata": {
        "id": "qTDpaR04yB1i",
        "colab": {
          "base_uri": "https://localhost:8080/"
        },
        "outputId": "89295086-ccd4-4b88-afda-dfd0023b217f"
      },
      "outputs": [
        {
          "output_type": "execute_result",
          "data": {
            "text/plain": [
              "array([[0.017309023771059313, 0.05700438495268867, 0.36787445188091394,\n",
              "        0.5308100623124856, 0.027002077082852526],\n",
              "       [0.44, 0.16, 0.12, 0.28, 0.0],\n",
              "       [0.017309023771059313, 0.05700438495268867, 0.36787445188091394,\n",
              "        0.5308100623124856, 0.027002077082852526],\n",
              "       ...,\n",
              "       [0.017482517482517484, 0.11538461538461539, 0.28205128205128205,\n",
              "        0.4393939393939394, 0.1456876456876457],\n",
              "       [0.0696969696969697, 0.11212121212121212, 0.2909090909090909,\n",
              "        0.5121212121212121, 0.015151515151515152],\n",
              "       [0.024390243902439025, 0.1155085135757018, 0.3041877588587207,\n",
              "        0.5494707777266452, 0.006442705936493327]], dtype=object)"
            ]
          },
          "metadata": {},
          "execution_count": 29
        }
      ],
      "source": [
        "\n",
        "obs = obs.reindex(y_train.index)\n",
        "y_train = np.array(y_train)\n",
        "\n",
        "y = y_train\n",
        "y"
      ]
    },
    {
      "cell_type": "code",
      "source": [
        "y.shape"
      ],
      "metadata": {
        "colab": {
          "base_uri": "https://localhost:8080/"
        },
        "id": "2M91jXQShuHV",
        "outputId": "ffece52f-d604-4a7e-887d-9d86f44f4f33"
      },
      "execution_count": 31,
      "outputs": [
        {
          "output_type": "execute_result",
          "data": {
            "text/plain": [
              "(23411, 5)"
            ]
          },
          "metadata": {},
          "execution_count": 31
        }
      ]
    },
    {
      "cell_type": "markdown",
      "metadata": {
        "id": "2pmR5R7ELPF-"
      },
      "source": [
        "Note that we do not have y_test and y_val, as these will be used to evaluate the performance of our model in the competition. "
      ]
    },
    {
      "cell_type": "code",
      "execution_count": 30,
      "metadata": {
        "id": "U7U-snDhA4Ls",
        "colab": {
          "base_uri": "https://localhost:8080/",
          "height": 628
        },
        "outputId": "0fe7f146-d0a3-4cd0-c77a-a333756e9d4e"
      },
      "outputs": [
        {
          "output_type": "error",
          "ename": "ValueError",
          "evalue": "ignored",
          "traceback": [
            "\u001b[0;31m---------------------------------------------------------------------------\u001b[0m",
            "\u001b[0;31mValueError\u001b[0m                                Traceback (most recent call last)",
            "\u001b[0;32m<ipython-input-30-d9e7931f27fc>\u001b[0m in \u001b[0;36m<module>\u001b[0;34m\u001b[0m\n\u001b[0;32m----> 1\u001b[0;31m X_train, X_test, y_train, y_test = train_test_split(X, y, test_size=0.2, \n\u001b[0m\u001b[1;32m      2\u001b[0m                                                     random_state=42)\n",
            "\u001b[0;32m/usr/local/lib/python3.8/dist-packages/sklearn/model_selection/_split.py\u001b[0m in \u001b[0;36mtrain_test_split\u001b[0;34m(test_size, train_size, random_state, shuffle, stratify, *arrays)\u001b[0m\n\u001b[1;32m   2415\u001b[0m         \u001b[0;32mraise\u001b[0m \u001b[0mValueError\u001b[0m\u001b[0;34m(\u001b[0m\u001b[0;34m\"At least one array required as input\"\u001b[0m\u001b[0;34m)\u001b[0m\u001b[0;34m\u001b[0m\u001b[0;34m\u001b[0m\u001b[0m\n\u001b[1;32m   2416\u001b[0m \u001b[0;34m\u001b[0m\u001b[0m\n\u001b[0;32m-> 2417\u001b[0;31m     \u001b[0marrays\u001b[0m \u001b[0;34m=\u001b[0m \u001b[0mindexable\u001b[0m\u001b[0;34m(\u001b[0m\u001b[0;34m*\u001b[0m\u001b[0marrays\u001b[0m\u001b[0;34m)\u001b[0m\u001b[0;34m\u001b[0m\u001b[0;34m\u001b[0m\u001b[0m\n\u001b[0m\u001b[1;32m   2418\u001b[0m \u001b[0;34m\u001b[0m\u001b[0m\n\u001b[1;32m   2419\u001b[0m     \u001b[0mn_samples\u001b[0m \u001b[0;34m=\u001b[0m \u001b[0m_num_samples\u001b[0m\u001b[0;34m(\u001b[0m\u001b[0marrays\u001b[0m\u001b[0;34m[\u001b[0m\u001b[0;36m0\u001b[0m\u001b[0;34m]\u001b[0m\u001b[0;34m)\u001b[0m\u001b[0;34m\u001b[0m\u001b[0;34m\u001b[0m\u001b[0m\n",
            "\u001b[0;32m/usr/local/lib/python3.8/dist-packages/sklearn/utils/validation.py\u001b[0m in \u001b[0;36mindexable\u001b[0;34m(*iterables)\u001b[0m\n\u001b[1;32m    376\u001b[0m \u001b[0;34m\u001b[0m\u001b[0m\n\u001b[1;32m    377\u001b[0m     \u001b[0mresult\u001b[0m \u001b[0;34m=\u001b[0m \u001b[0;34m[\u001b[0m\u001b[0m_make_indexable\u001b[0m\u001b[0;34m(\u001b[0m\u001b[0mX\u001b[0m\u001b[0;34m)\u001b[0m \u001b[0;32mfor\u001b[0m \u001b[0mX\u001b[0m \u001b[0;32min\u001b[0m \u001b[0miterables\u001b[0m\u001b[0;34m]\u001b[0m\u001b[0;34m\u001b[0m\u001b[0;34m\u001b[0m\u001b[0m\n\u001b[0;32m--> 378\u001b[0;31m     \u001b[0mcheck_consistent_length\u001b[0m\u001b[0;34m(\u001b[0m\u001b[0;34m*\u001b[0m\u001b[0mresult\u001b[0m\u001b[0;34m)\u001b[0m\u001b[0;34m\u001b[0m\u001b[0;34m\u001b[0m\u001b[0m\n\u001b[0m\u001b[1;32m    379\u001b[0m     \u001b[0;32mreturn\u001b[0m \u001b[0mresult\u001b[0m\u001b[0;34m\u001b[0m\u001b[0;34m\u001b[0m\u001b[0m\n\u001b[1;32m    380\u001b[0m \u001b[0;34m\u001b[0m\u001b[0m\n",
            "\u001b[0;32m/usr/local/lib/python3.8/dist-packages/sklearn/utils/validation.py\u001b[0m in \u001b[0;36mcheck_consistent_length\u001b[0;34m(*arrays)\u001b[0m\n\u001b[1;32m    330\u001b[0m     \u001b[0muniques\u001b[0m \u001b[0;34m=\u001b[0m \u001b[0mnp\u001b[0m\u001b[0;34m.\u001b[0m\u001b[0munique\u001b[0m\u001b[0;34m(\u001b[0m\u001b[0mlengths\u001b[0m\u001b[0;34m)\u001b[0m\u001b[0;34m\u001b[0m\u001b[0;34m\u001b[0m\u001b[0m\n\u001b[1;32m    331\u001b[0m     \u001b[0;32mif\u001b[0m \u001b[0mlen\u001b[0m\u001b[0;34m(\u001b[0m\u001b[0muniques\u001b[0m\u001b[0;34m)\u001b[0m \u001b[0;34m>\u001b[0m \u001b[0;36m1\u001b[0m\u001b[0;34m:\u001b[0m\u001b[0;34m\u001b[0m\u001b[0;34m\u001b[0m\u001b[0m\n\u001b[0;32m--> 332\u001b[0;31m         raise ValueError(\n\u001b[0m\u001b[1;32m    333\u001b[0m             \u001b[0;34m\"Found input variables with inconsistent numbers of samples: %r\"\u001b[0m\u001b[0;34m\u001b[0m\u001b[0;34m\u001b[0m\u001b[0m\n\u001b[1;32m    334\u001b[0m             \u001b[0;34m%\u001b[0m \u001b[0;34m[\u001b[0m\u001b[0mint\u001b[0m\u001b[0;34m(\u001b[0m\u001b[0ml\u001b[0m\u001b[0;34m)\u001b[0m \u001b[0;32mfor\u001b[0m \u001b[0ml\u001b[0m \u001b[0;32min\u001b[0m \u001b[0mlengths\u001b[0m\u001b[0;34m]\u001b[0m\u001b[0;34m\u001b[0m\u001b[0;34m\u001b[0m\u001b[0m\n",
            "\u001b[0;31mValueError\u001b[0m: Found input variables with inconsistent numbers of samples: [18728, 23411]"
          ]
        }
      ],
      "source": [
        "X_train, X_test, y_train, y_test = train_test_split(X, y, test_size=0.2, \n",
        "                                                    random_state=42)"
      ]
    },
    {
      "cell_type": "markdown",
      "metadata": {
        "id": "1OXSiEfxbHBz"
      },
      "source": [
        "# 2. Random Forest"
      ]
    },
    {
      "cell_type": "markdown",
      "metadata": {
        "id": "l18u-2unbHB2"
      },
      "source": [
        "## 3.1. Random Forest Regression\n"
      ]
    },
    {
      "cell_type": "code",
      "execution_count": null,
      "metadata": {
        "id": "Njpt40H8bHB2"
      },
      "outputs": [],
      "source": [
        "rfr = RandomForestRegressor(n_estimators=100, random_state=42, warm_start=True, \n",
        "                            n_jobs=-1)"
      ]
    },
    {
      "cell_type": "code",
      "execution_count": null,
      "metadata": {
        "id": "o6ayjTB5bHB4"
      },
      "outputs": [],
      "source": [
        "print('Number of estimators fitted:\\n')\n",
        "for i in tqdm(range(100)):\n",
        "    # rfr.set_params(n_estimators=i+1)\n",
        "    rfr.fit(X_train, y_train)"
      ]
    },
    {
      "cell_type": "code",
      "execution_count": null,
      "metadata": {
        "id": "jA3fPa2fbHB5"
      },
      "outputs": [],
      "source": [
        "y_pred = rfr.predict(X_train)\n",
        "y_pred"
      ]
    },
    {
      "cell_type": "code",
      "execution_count": null,
      "metadata": {
        "id": "Z2nhp0I0S8Ke"
      },
      "outputs": [],
      "source": [
        "y_pred.shape"
      ]
    },
    {
      "cell_type": "code",
      "execution_count": null,
      "metadata": {
        "id": "AaVpTdRHRmih"
      },
      "outputs": [],
      "source": [
        "print(mean_absolute_error(y_test, rfr.predict(X_test)).round(3))"
      ]
    },
    {
      "cell_type": "markdown",
      "metadata": {
        "id": "Sz5FkjWrbHB_"
      },
      "source": [
        "___\n",
        "\n",
        "# 4. Gradient Boosting"
      ]
    },
    {
      "cell_type": "code",
      "execution_count": null,
      "metadata": {
        "id": "a9pmSTUVbHB_"
      },
      "outputs": [],
      "source": [
        "# Loss functions\n",
        "def MSE(y_true:jnp.array, y_pred:jnp.array):\n",
        "    return jnp.mean(jnp.sum(jnp.square(y_true-y_pred)))\n",
        "\n",
        "def CrossEntropy(y_true:jnp.array, y_proba:jnp.array):\n",
        "    y_proba = jnp.clip(y_proba, 1e-5, 1 - 1e-5)\n",
        "    return jnp.sum(- y_true * jnp.log(y_proba) - (1 - y_true) * jnp.log(1 - y_proba))"
      ]
    },
    {
      "cell_type": "code",
      "execution_count": null,
      "metadata": {
        "id": "RqJIy-aybHCA"
      },
      "outputs": [],
      "source": [
        "class GradientBoosting:\n",
        "\n",
        "    def __init__(self, n_estimators:int=100, learning_rate:float=.1, regression:bool=True, **kwargs):\n",
        "        self.n_estimators = n_estimators\n",
        "        self.learning_rate = learning_rate\n",
        "        self.regression = regression\n",
        "        self.loss = MSE if self.regression else CrossEntropy\n",
        "\n",
        "        self.estimators = []\n",
        "        for _ in range(self.n_estimators):\n",
        "                self.estimators.append(DecisionTreeRegressor(**kwargs))\n",
        "\n",
        "    def fit(self, X:np.array, y:np.array):\n",
        "        y_pred = np.full(np.shape(y), np.mean(y))\n",
        "        for i, estimator in enumerate(self.estimators):\n",
        "            gradient = jax.grad(self.loss, argnums=1)(y.astype(np.float32), y_pred.astype(np.float32))\n",
        "            self.estimators[i].fit(X, gradient)\n",
        "            update = self.estimators[i].predict(X)\n",
        "            y_pred -= (self.learning_rate * update)\n",
        "\n",
        "    def predict(self, X:np.array):\n",
        "        y_pred = np.zeros(X.shape[0], dtype=np.float32)\n",
        "        for estimator in self.estimators:\n",
        "            y_pred -= (self.learning_rate * estimator.predict(X))\n",
        "    \n",
        "        if not self.regression:\n",
        "            return np.where(1/(1 + np.exp(-y_pred))>.5, 1, 0)\n",
        "        return y_pred"
      ]
    },
    {
      "cell_type": "markdown",
      "metadata": {
        "id": "u8XMuLqdbHCB"
      },
      "source": [
        "## 4.1 Gradient Boosting Regressor"
      ]
    },
    {
      "cell_type": "code",
      "execution_count": null,
      "metadata": {
        "id": "jqH293E4bHCC"
      },
      "outputs": [],
      "source": [
        "gbr = GradientBoosting(regression=True)"
      ]
    },
    {
      "cell_type": "code",
      "execution_count": null,
      "metadata": {
        "id": "jeIDQWhIbHCD"
      },
      "outputs": [],
      "source": [
        "gbr.fit(X_train_r, y_train_r)"
      ]
    },
    {
      "cell_type": "code",
      "execution_count": null,
      "metadata": {
        "id": "iV6RLwq6bHCE"
      },
      "outputs": [],
      "source": [
        "print(mean_absolute_error(gbr.predict(X_test_r), y_test_r).round(3))"
      ]
    },
    {
      "cell_type": "markdown",
      "metadata": {
        "id": "f_1SNcHhbHCF"
      },
      "source": [
        "## 4.2 Gradient Boosting Classifier"
      ]
    },
    {
      "cell_type": "code",
      "execution_count": null,
      "metadata": {
        "id": "uqyUxIf4bHCF"
      },
      "outputs": [],
      "source": [
        "gbc = GradientBoosting(regression=False)"
      ]
    },
    {
      "cell_type": "code",
      "execution_count": null,
      "metadata": {
        "id": "K_3r58afbHCG"
      },
      "outputs": [],
      "source": [
        "gbc.fit(X_train_c, y_train_c)"
      ]
    },
    {
      "cell_type": "code",
      "execution_count": null,
      "metadata": {
        "id": "0XXeK9LwbHCH"
      },
      "outputs": [],
      "source": [
        "print(accuracy_score(gbc.predict(X_test_c), y_test_c).round(3))"
      ]
    },
    {
      "cell_type": "code",
      "execution_count": null,
      "metadata": {
        "id": "J6OCwqH4bk7W"
      },
      "outputs": [],
      "source": []
    }
  ],
  "metadata": {
    "colab": {
      "provenance": []
    },
    "kernelspec": {
      "display_name": "Python 3",
      "language": "python",
      "name": "python3"
    },
    "language_info": {
      "codemirror_mode": {
        "name": "ipython",
        "version": 3
      },
      "file_extension": ".py",
      "mimetype": "text/x-python",
      "name": "python",
      "nbconvert_exporter": "python",
      "pygments_lexer": "ipython3",
      "version": "3.7.6"
    }
  },
  "nbformat": 4,
  "nbformat_minor": 0
}